{
 "cells": [
  {
   "cell_type": "code",
   "execution_count": 1,
   "id": "initial_id",
   "metadata": {
    "collapsed": true,
    "ExecuteTime": {
     "end_time": "2024-02-26T15:59:58.945016400Z",
     "start_time": "2024-02-26T15:59:45.139016200Z"
    }
   },
   "outputs": [
    {
     "name": "stdout",
     "output_type": "stream",
     "text": [
      "WARNING:tensorflow:From C:\\Users\\akars\\AppData\\Local\\Programs\\Python\\Python311\\Lib\\site-packages\\keras\\src\\losses.py:2976: The name tf.losses.sparse_softmax_cross_entropy is deprecated. Please use tf.compat.v1.losses.sparse_softmax_cross_entropy instead.\n"
     ]
    }
   ],
   "source": [
    "import numpy as np\n",
    "import pandas as pd\n",
    "from matplotlib import pyplot as plt\n",
    "import tensorflow as tf\n",
    "from keras.layers import Normalization, Input, Dense\n",
    "from keras.models import Sequential\n",
    "from sklearn.model_selection import train_test_split\n",
    "from sklearn.metrics import accuracy_score\n",
    "import seaborn as sns\n",
    "from sklearn.model_selection import KFold"
   ]
  },
  {
   "cell_type": "code",
   "execution_count": 3,
   "outputs": [
    {
     "data": {
      "text/plain": "      Size  Bedrooms  Floors  Ages  Prices\n0    952.0       2.0     1.0  65.0   271.5\n1   1244.0       3.0     1.0  64.0   300.0\n2   1947.0       3.0     2.0  17.0   509.8\n3   1725.0       3.0     2.0  42.0   394.0\n4   1959.0       3.0     2.0  15.0   540.0\n..     ...       ...     ...   ...     ...\n95  1224.0       2.0     2.0  12.0   329.0\n96  1432.0       2.0     1.0  43.0   388.0\n97  1660.0       3.0     2.0  19.0   390.0\n98  1212.0       3.0     1.0  20.0   356.0\n99  1050.0       2.0     1.0  65.0   257.8\n\n[100 rows x 5 columns]",
      "text/html": "<div>\n<style scoped>\n    .dataframe tbody tr th:only-of-type {\n        vertical-align: middle;\n    }\n\n    .dataframe tbody tr th {\n        vertical-align: top;\n    }\n\n    .dataframe thead th {\n        text-align: right;\n    }\n</style>\n<table border=\"1\" class=\"dataframe\">\n  <thead>\n    <tr style=\"text-align: right;\">\n      <th></th>\n      <th>Size</th>\n      <th>Bedrooms</th>\n      <th>Floors</th>\n      <th>Ages</th>\n      <th>Prices</th>\n    </tr>\n  </thead>\n  <tbody>\n    <tr>\n      <th>0</th>\n      <td>952.0</td>\n      <td>2.0</td>\n      <td>1.0</td>\n      <td>65.0</td>\n      <td>271.5</td>\n    </tr>\n    <tr>\n      <th>1</th>\n      <td>1244.0</td>\n      <td>3.0</td>\n      <td>1.0</td>\n      <td>64.0</td>\n      <td>300.0</td>\n    </tr>\n    <tr>\n      <th>2</th>\n      <td>1947.0</td>\n      <td>3.0</td>\n      <td>2.0</td>\n      <td>17.0</td>\n      <td>509.8</td>\n    </tr>\n    <tr>\n      <th>3</th>\n      <td>1725.0</td>\n      <td>3.0</td>\n      <td>2.0</td>\n      <td>42.0</td>\n      <td>394.0</td>\n    </tr>\n    <tr>\n      <th>4</th>\n      <td>1959.0</td>\n      <td>3.0</td>\n      <td>2.0</td>\n      <td>15.0</td>\n      <td>540.0</td>\n    </tr>\n    <tr>\n      <th>...</th>\n      <td>...</td>\n      <td>...</td>\n      <td>...</td>\n      <td>...</td>\n      <td>...</td>\n    </tr>\n    <tr>\n      <th>95</th>\n      <td>1224.0</td>\n      <td>2.0</td>\n      <td>2.0</td>\n      <td>12.0</td>\n      <td>329.0</td>\n    </tr>\n    <tr>\n      <th>96</th>\n      <td>1432.0</td>\n      <td>2.0</td>\n      <td>1.0</td>\n      <td>43.0</td>\n      <td>388.0</td>\n    </tr>\n    <tr>\n      <th>97</th>\n      <td>1660.0</td>\n      <td>3.0</td>\n      <td>2.0</td>\n      <td>19.0</td>\n      <td>390.0</td>\n    </tr>\n    <tr>\n      <th>98</th>\n      <td>1212.0</td>\n      <td>3.0</td>\n      <td>1.0</td>\n      <td>20.0</td>\n      <td>356.0</td>\n    </tr>\n    <tr>\n      <th>99</th>\n      <td>1050.0</td>\n      <td>2.0</td>\n      <td>1.0</td>\n      <td>65.0</td>\n      <td>257.8</td>\n    </tr>\n  </tbody>\n</table>\n<p>100 rows × 5 columns</p>\n</div>"
     },
     "execution_count": 3,
     "metadata": {},
     "output_type": "execute_result"
    }
   ],
   "source": [
    "df = pd.read_csv('C:\\\\404\\Python Projects\\Artificial Intelligence\\SUPERVISED LEARNING (REGRESSION)\\Binary_Houses.csv',index_col=None)\n",
    "X = df.iloc[:,1:6]\n",
    "X"
   ],
   "metadata": {
    "collapsed": false,
    "ExecuteTime": {
     "end_time": "2024-02-22T15:04:24.580787600Z",
     "start_time": "2024-02-22T15:04:24.473931200Z"
    }
   },
   "id": "87a81d621f54c0f7"
  },
  {
   "cell_type": "code",
   "execution_count": 4,
   "outputs": [
    {
     "data": {
      "text/plain": "0      Delhi\n1     Mumbai\n2      Delhi\n3     Mumbai\n4     Mumbai\n       ...  \n95    Mumbai\n96     Delhi\n97     Delhi\n98     Delhi\n99    Mumbai\nName: Area, Length: 100, dtype: object"
     },
     "execution_count": 4,
     "metadata": {},
     "output_type": "execute_result"
    }
   ],
   "source": [
    "y = df['Area']\n",
    "y"
   ],
   "metadata": {
    "collapsed": false,
    "ExecuteTime": {
     "end_time": "2024-02-22T15:04:24.621840100Z",
     "start_time": "2024-02-22T15:04:24.551170200Z"
    }
   },
   "id": "f47042420ae84ef7"
  },
  {
   "cell_type": "code",
   "execution_count": 5,
   "outputs": [
    {
     "data": {
      "text/plain": "<matplotlib.collections.PathCollection at 0x1e9ff5b7f10>"
     },
     "execution_count": 5,
     "metadata": {},
     "output_type": "execute_result"
    },
    {
     "data": {
      "text/plain": "<Figure size 640x480 with 1 Axes>",
      "image/png": "[encoded data removed]"
     },
     "metadata": {},
     "output_type": "display_data"
    }
   ],
   "source": [
    "area_1 = df[df['Area'] == 'Delhi']\n",
    "area_2 = df[df['Area'] == 'Mumbai']\n",
    "\n",
    "plt.scatter(area_1['Size'],area_1['Prices'],marker='x',c='r')\n",
    "plt.scatter(area_2['Size'],area_2['Prices'],marker='o',c='b')"
   ],
   "metadata": {
    "collapsed": false,
    "ExecuteTime": {
     "end_time": "2024-02-22T15:04:25.227465500Z",
     "start_time": "2024-02-22T15:04:24.575508700Z"
    }
   },
   "id": "451aa58ac9709406"
  },
  {
   "cell_type": "code",
   "execution_count": 6,
   "outputs": [
    {
     "name": "stdout",
     "output_type": "stream",
     "text": [
      "WARNING:tensorflow:From C:\\Users\\akars\\AppData\\Local\\Programs\\Python\\Python311\\Lib\\site-packages\\keras\\src\\backend.py:873: The name tf.get_default_graph is deprecated. Please use tf.compat.v1.get_default_graph instead.\n"
     ]
    },
    {
     "data": {
      "text/plain": "<tf.Tensor: shape=(100, 5), dtype=float32, numpy=\narray([[-1.1201854 , -1.0879387 , -0.78288114,  1.0219113 , -0.8719024 ],\n       [-0.41174465,  0.44436976, -0.78288114,  0.983129  , -0.5980501 ],\n       [ 1.2938505 ,  0.44436976,  1.277333  , -0.83963466,  1.4178869 ],\n       [ 0.7552416 ,  0.44436976,  1.277333  ,  0.12992048,  0.30518192],\n       [ 1.3229645 ,  0.44436976,  1.277333  , -0.9171991 ,  1.7080742 ],\n       [-0.24191299, -1.0879387 , -0.78288114, -0.9559813 ,  0.5069678 ],\n       [-1.333688  , -1.0879387 , -0.78288114,  1.0606934 , -1.2706697 ],\n       [ 1.024546  ,  0.44436976, -0.78288114, -0.83963466,  1.9002513 ],\n       [-0.94064903,  0.44436976, -0.78288114,  0.16870269, -0.65570325],\n       [ 4.3192806 ,  1.9766783 ,  1.277333  ,  1.8751198 ,  3.4203718 ],\n       [-1.5180767 , -1.0879387 , -0.78288114,  1.6036444 , -1.5589353 ],\n       [-0.518496  , -1.0879387 ,  1.277333  , -0.83963466, -0.57883245],\n       [ 0.34764552, -1.0879387 , -0.78288114, -0.8008525 ,  1.0162369 ],\n       [ 0.03952235,  0.44436976, -0.78288114, -0.72328806,  0.11492677],\n       [-0.46997267, -1.0879387 , -0.78288114, -0.9171991 ,  0.2475288 ],\n       [-0.780522  , -1.0879387 , -0.78288114,  0.983129  , -0.77100945],\n       [-1.3725067 , -2.6202471 , -0.78288114, -0.83963466, -0.4846658 ],\n       [ 0.6509164 ,  0.44436976,  1.277333  , -0.60694146,  0.37244388],\n       [ 0.8595667 ,  0.44436976,  1.277333  , -0.8008525 ,  0.84135574],\n       [-0.90668267,  0.44436976, -0.78288114,  0.20748489, -0.5884413 ],\n       [ 0.5781314 , -1.0879387 , -0.78288114, -0.6845059 ,  1.3429378 ],\n       [-0.7902267 , -1.0879387 , -0.78288114, -0.14155497, -0.21369608],\n       [-0.23706067,  0.44436976, -0.78288114, -0.9559813 ,  0.36554486],\n       [ 0.43498755, -4.1525555 , -0.78288114, -0.72328806,  2.0155575 ],\n       [-1.0716621 , -1.0879387 , -0.78288114,  1.3321689 , -0.9439688 ],\n       [-0.7683912 ,  0.44436976, -0.78288114, -0.06399055, -0.5596147 ],\n       [-0.9940247 , -1.0879387 , -0.78288114,  0.47896034, -0.61726785],\n       [-1.2366414 ,  0.44436976, -0.78288114,  0.6340892 , -1.36868   ],\n       [ 0.6800304 ,  0.44436976, -0.78288114, -0.9947635 ,  1.234358  ],\n       [-0.8266192 , -1.0879387 , -0.78288114,  2.3792884 , -1.3959692 ],\n       [ 0.01283452,  0.44436976,  1.277333  , -0.76207024,  0.05727366],\n       [-0.605838  ,  0.44436976, -0.78288114,  0.5177425 , -0.7902272 ],\n       [ 1.2647365 ,  0.44436976,  1.277333  , -1.0335457 ,  1.58191   ],\n       [-0.47967735, -1.0879387 ,  1.277333  ,  1.370951  , -1.2034078 ],\n       [ 2.5918498 ,  1.9766783 ,  1.277333  , -0.8784169 ,  1.9235626 ],\n       [-0.518496  , -1.0879387 , -0.78288114, -0.8008525 ,  0.07264759],\n       [ 1.0342507 ,  0.44436976,  1.277333  , -0.72328806,  0.9393661 ],\n       [ 1.0609386 ,  0.44436976,  1.277333  ,  0.7116536 ,  0.11300488],\n       [ 0.59754074,  0.44436976,  1.277333  , -0.76207024,  0.2667465 ],\n       [-0.77081734, -1.0879387 ,  1.277333  ,  2.2629418 , -1.962507  ],\n       [ 0.8765499 ,  0.44436976,  1.277333  , -0.41303042,  0.6126652 ],\n       [ 1.4952224 ,  1.9766783 ,  1.277333  ,  0.2462671 ,  0.2667465 ],\n       [ 0.8983854 ,  1.9766783 ,  1.277333  ,  2.650764  , -0.8116166 ],\n       [-0.8266192 , -1.0879387 , -0.78288114,  2.3792884 , -1.3959692 ],\n       [ 0.3355147 ,  0.44436976, -0.78288114, -0.8784169 ,  0.6107433 ],\n       [ 1.3084075 ,  0.44436976,  1.277333  , -0.8784169 ,  1.3621556 ],\n       [-0.460268  , -1.0879387 ,  1.277333  , -1.0335457 , -0.31939346],\n       [ 0.49078938,  0.44436976, -0.78288114, -0.8784169 ,  0.9778015 ],\n       [-1.450144  , -1.0879387 , -0.78288114,  0.75043577, -1.3667582 ],\n       [-0.15699716,  0.44436976, -0.78288114, -0.6845059 , -0.04073675],\n       [ 0.38161185,  0.44436976, -0.78288114, -0.9559813 ,  1.1123254 ],\n       [ 0.1753877 ,  0.44436976, -0.78288114,  0.7116536 , -0.2713492 ],\n       [ 0.22391103, -1.0879387 , -0.78288114, -0.8784169 ,  0.62208194],\n       [-0.7683912 ,  0.44436976, -0.78288114, -0.45181262, -0.69413865],\n       [ 0.84986204,  0.44436976,  1.277333  , -0.5681592 ,  0.9681927 ],\n       [-0.49908668, -1.0879387 , -0.78288114, -0.9559813 ,  0.27443346],\n       [ 0.13656902,  0.44436976,  1.277333  , -0.5681592 , -0.07917215],\n       [ 0.8595667 ,  0.44436976,  1.277333  ,  1.7587732 , -0.11760756],\n       [ 0.58298373,  0.44436976, -0.78288114, -0.76207024,  0.9393661 ],\n       [-0.93337053,  0.44436976, -0.78288114,  0.8280002 , -1.2034078 ],\n       [-0.7125893 , -1.0879387 ,  1.277333  , -0.8784169 , -0.7104354 ],\n       [-0.63980436,  0.44436976, -0.78288114,  0.9055646 , -0.77100945],\n       [-1.450144  , -1.0879387 , -0.78288114,  0.01357386, -1.0881016 ],\n       [-0.90668267,  0.44436976, -0.78288114, -0.52937704, -0.5596147 ],\n       [-0.05267199,  0.44436976, -0.78288114,  0.983129  , -0.2905669 ],\n       [ 0.4592492 ,  0.44436976,  1.277333  , -0.3742482 , -0.10031174],\n       [-0.4821035 ,  0.44436976, -0.78288114,  0.9443468 , -0.50196165],\n       [-0.8266192 , -1.0879387 , -0.78288114,  2.3792884 , -1.3959692 ],\n       [ 2.8757112 ,  1.9766783 ,  1.277333  , -0.64572364,  2.922018  ],\n       [ 0.04194852,  0.44436976, -0.78288114,  0.789218  , -0.3097846 ],\n       [ 1.6407924 ,  0.44436976,  1.277333  , -0.49059483,  1.1315432 ],\n       [ 0.9129424 ,  1.9766783 ,  1.277333  ,  0.40139592, -0.30690205],\n       [ 0.17053536,  0.44436976,  1.277333  , -0.8784169 , -0.13682526],\n       [-0.90668267,  0.44436976, -0.78288114, -0.52937704, -0.5596147 ],\n       [ 0.04194852,  0.44436976, -0.78288114, -0.64572364,  0.20909339],\n       [-0.61796886,  0.44436976, -0.78288114,  0.55652475, -0.44430852],\n       [ 0.32338387,  0.44436976,  1.277333  , -1.0335457 ,  0.65494406],\n       [ 1.3811926 ,  0.44436976,  1.277333  , -0.64572364,  0.8432776 ],\n       [-0.867864  ,  0.44436976, -0.78288114,  0.55652475, -0.7517918 ],\n       [-0.56701934, -1.0879387 , -0.78288114,  2.3405063 , -0.83827144],\n       [-0.13516165, -1.0879387 , -0.78288114, -0.83963466,  0.49735895],\n       [-1.1007761 ,  0.44436976, -0.78288114,  0.47896034, -1.001622  ],\n       [ 0.10260269,  0.44436976,  1.277333  , -0.8784169 ,  0.1514403 ],\n       [ 0.07834102,  0.44436976,  1.277333  , -0.52937704, -0.11760756],\n       [-0.49908668, -1.0879387 , -0.78288114, -0.9171991 ,  0.47814125],\n       [ 0.33794087,  0.44436976,  1.277333  , -0.8784169 ,  0.10339603],\n       [-1.290017  ,  0.44436976, -0.78288114,  0.40139592, -1.318714  ],\n       [ 1.4952224 ,  1.9766783 ,  1.277333  ,  0.2462671 ,  0.2667465 ],\n       [-0.90668267,  0.44436976, -0.78288114,  0.9055646 , -0.91129875],\n       [ 0.49078938,  0.44436976, -0.78288114, -0.8784169 ,  0.9778015 ],\n       [-1.4816842 , -1.0879387 , -0.78288114,  1.6036444 , -1.8087654 ],\n       [ 0.03952235,  0.44436976,  1.277333  , -0.6845059 , -0.21369608],\n       [ 0.587836  ,  0.44436976, -0.78288114,  0.8667824 ,  0.6511006 ],\n       [ 0.30882686,  0.44436976, -0.78288114, -0.8784169 ,  0.7471891 ],\n       [-1.1298901 ,  0.44436976, -0.78288114,  0.55652475, -1.4051937 ],\n       [-0.460268  , -1.0879387 ,  1.277333  , -1.0335457 , -0.31939346],\n       [ 0.04437469, -1.0879387 , -0.78288114,  0.16870269,  0.2475288 ],\n       [ 0.59754074,  0.44436976,  1.277333  , -0.76207024,  0.2667465 ],\n       [-0.489382  ,  0.44436976, -0.78288114, -0.72328806, -0.05995445],\n       [-0.882421  , -1.0879387 , -0.78288114,  1.0219113 , -1.0035437 ]],\n      dtype=float32)>"
     },
     "execution_count": 6,
     "metadata": {},
     "output_type": "execute_result"
    }
   ],
   "source": [
    "norm = Normalization()\n",
    "norm.adapt(X)\n",
    "Xn = norm(X)\n",
    "Xn"
   ],
   "metadata": {
    "collapsed": false,
    "ExecuteTime": {
     "end_time": "2024-02-22T15:04:27.131614Z",
     "start_time": "2024-02-22T15:04:25.021258900Z"
    }
   },
   "id": "9b98aa29acaa0075"
  },
  {
   "cell_type": "code",
   "execution_count": 7,
   "outputs": [],
   "source": [
    "y1 = y.apply(lambda x : 1 if x == 'Delhi' else 0)\n",
    "yn = tf.convert_to_tensor(y1,dtype='float32')\n",
    "yn = yn.numpy()\n",
    "Xn = Xn.numpy()"
   ],
   "metadata": {
    "collapsed": false,
    "ExecuteTime": {
     "end_time": "2024-02-22T15:04:27.141771600Z",
     "start_time": "2024-02-22T15:04:27.127563200Z"
    }
   },
   "id": "8c7282f92a5a7865"
  },
  {
   "cell_type": "code",
   "execution_count": 8,
   "outputs": [
    {
     "data": {
      "text/plain": "5"
     },
     "execution_count": 8,
     "metadata": {},
     "output_type": "execute_result"
    }
   ],
   "source": [
    "m = Xn.shape[1]\n",
    "m"
   ],
   "metadata": {
    "collapsed": false,
    "ExecuteTime": {
     "end_time": "2024-02-22T15:04:27.319025200Z",
     "start_time": "2024-02-22T15:04:27.128611100Z"
    }
   },
   "id": "26408b7008268f53"
  },
  {
   "cell_type": "code",
   "execution_count": 9,
   "outputs": [],
   "source": [
    "X_train, X_test, y_train, y_test = train_test_split(Xn, yn, train_size=0.9)"
   ],
   "metadata": {
    "collapsed": false,
    "ExecuteTime": {
     "end_time": "2024-02-22T15:04:27.331488Z",
     "start_time": "2024-02-22T15:04:27.133712600Z"
    }
   },
   "id": "1ae9de19abb3eee7"
  },
  {
   "cell_type": "code",
   "execution_count": 10,
   "outputs": [
    {
     "name": "stdout",
     "output_type": "stream",
     "text": [
      "Model: \"sequential\"\n",
      "_________________________________________________________________\n",
      " Layer (type)                Output Shape              Param #   \n",
      "=================================================================\n",
      "=================================================================\n",
      "Total params: 0 (0.00 Byte)\n",
      "Trainable params: 0 (0.00 Byte)\n",
      "Non-trainable params: 0 (0.00 Byte)\n",
      "_________________________________________________________________\n"
     ]
    }
   ],
   "source": [
    "model_1 = Sequential([Input(shape=(m,))])\n",
    "# model.add(Input(shape=(m,)))\n",
    "model_1.summary()"
   ],
   "metadata": {
    "collapsed": false,
    "ExecuteTime": {
     "end_time": "2024-02-22T15:04:27.654892800Z",
     "start_time": "2024-02-22T15:04:27.161079200Z"
    }
   },
   "id": "b8713d3bbaa172c6"
  },
  {
   "cell_type": "code",
   "execution_count": 11,
   "outputs": [],
   "source": [
    "# model.add(Dense(units=1,activation='relu'))\n",
    "model_1.add(Dense(units=12, activation='sigmoid', input_dim=X_train.shape[1]))"
   ],
   "metadata": {
    "collapsed": false,
    "ExecuteTime": {
     "end_time": "2024-02-22T15:04:27.774083800Z",
     "start_time": "2024-02-22T15:04:27.261174100Z"
    }
   },
   "id": "5d633b4fd7dc664f"
  },
  {
   "cell_type": "code",
   "execution_count": 12,
   "outputs": [
    {
     "name": "stdout",
     "output_type": "stream",
     "text": [
      "Model: \"sequential\"\n",
      "_________________________________________________________________\n",
      " Layer (type)                Output Shape              Param #   \n",
      "=================================================================\n",
      " dense (Dense)               (None, 12)                72        \n",
      "                                                                 \n",
      "=================================================================\n",
      "Total params: 72 (288.00 Byte)\n",
      "Trainable params: 72 (288.00 Byte)\n",
      "Non-trainable params: 0 (0.00 Byte)\n",
      "_________________________________________________________________\n"
     ]
    }
   ],
   "source": [
    "model_1.summary()"
   ],
   "metadata": {
    "collapsed": false,
    "ExecuteTime": {
     "end_time": "2024-02-22T15:04:27.860215200Z",
     "start_time": "2024-02-22T15:04:27.406934300Z"
    }
   },
   "id": "676606b26705aa96"
  },
  {
   "cell_type": "code",
   "execution_count": 13,
   "outputs": [],
   "source": [
    "model_1.add(Dense(units=6, activation='sigmoid'))"
   ],
   "metadata": {
    "collapsed": false,
    "ExecuteTime": {
     "end_time": "2024-02-22T15:04:27.861215200Z",
     "start_time": "2024-02-22T15:04:27.436594700Z"
    }
   },
   "id": "3832d7248e7fc68f"
  },
  {
   "cell_type": "code",
   "execution_count": 14,
   "outputs": [],
   "source": [
    "model_1.add(Dense(units=1, activation='sigmoid'))"
   ],
   "metadata": {
    "collapsed": false,
    "ExecuteTime": {
     "end_time": "2024-02-22T15:04:27.868039Z",
     "start_time": "2024-02-22T15:04:27.499413200Z"
    }
   },
   "id": "2d3033a33526d2f5"
  },
  {
   "cell_type": "code",
   "execution_count": 15,
   "outputs": [
    {
     "name": "stdout",
     "output_type": "stream",
     "text": [
      "Model: \"sequential\"\n",
      "_________________________________________________________________\n",
      " Layer (type)                Output Shape              Param #   \n",
      "=================================================================\n",
      " dense (Dense)               (None, 12)                72        \n",
      "                                                                 \n",
      " dense_1 (Dense)             (None, 6)                 78        \n",
      "                                                                 \n",
      " dense_2 (Dense)             (None, 1)                 7         \n",
      "                                                                 \n",
      "=================================================================\n",
      "Total params: 157 (628.00 Byte)\n",
      "Trainable params: 157 (628.00 Byte)\n",
      "Non-trainable params: 0 (0.00 Byte)\n",
      "_________________________________________________________________\n"
     ]
    }
   ],
   "source": [
    "model_1.summary()"
   ],
   "metadata": {
    "collapsed": false,
    "ExecuteTime": {
     "end_time": "2024-02-22T15:04:28.241605100Z",
     "start_time": "2024-02-22T15:04:27.575111700Z"
    }
   },
   "id": "e3f7e339297e05d9"
  },
  {
   "cell_type": "code",
   "execution_count": 16,
   "outputs": [
    {
     "name": "stdout",
     "output_type": "stream",
     "text": [
      "WARNING:tensorflow:From C:\\Users\\akars\\AppData\\Local\\Programs\\Python\\Python311\\Lib\\site-packages\\keras\\src\\optimizers\\__init__.py:309: The name tf.train.Optimizer is deprecated. Please use tf.compat.v1.train.Optimizer instead.\n"
     ]
    }
   ],
   "source": [
    "model_1.compile(loss='binary_crossentropy', optimizer='sgd', metrics='accuracy')"
   ],
   "metadata": {
    "collapsed": false,
    "ExecuteTime": {
     "end_time": "2024-02-22T15:04:28.571936500Z",
     "start_time": "2024-02-22T15:04:27.638019300Z"
    }
   },
   "id": "39bb7e0cae256320"
  },
  {
   "cell_type": "code",
   "execution_count": 17,
   "outputs": [
    {
     "name": "stdout",
     "output_type": "stream",
     "text": [
      "Epoch 1/20\n",
      "WARNING:tensorflow:From C:\\Users\\akars\\AppData\\Local\\Programs\\Python\\Python311\\Lib\\site-packages\\keras\\src\\utils\\tf_utils.py:492: The name tf.ragged.RaggedTensorValue is deprecated. Please use tf.compat.v1.ragged.RaggedTensorValue instead.\n",
      "WARNING:tensorflow:From C:\\Users\\akars\\AppData\\Local\\Programs\\Python\\Python311\\Lib\\site-packages\\keras\\src\\engine\\base_layer_utils.py:384: The name tf.executing_eagerly_outside_functions is deprecated. Please use tf.compat.v1.executing_eagerly_outside_functions instead.\n",
      "3/3 [==============================] - 2s 9ms/step - loss: 0.6958 - accuracy: 0.5111\n",
      "Epoch 2/20\n",
      "3/3 [==============================] - 0s 9ms/step - loss: 0.6955 - accuracy: 0.5111\n",
      "Epoch 3/20\n",
      "3/3 [==============================] - 0s 8ms/step - loss: 0.6954 - accuracy: 0.5111\n",
      "Epoch 4/20\n",
      "3/3 [==============================] - 0s 5ms/step - loss: 0.6952 - accuracy: 0.5111\n",
      "Epoch 5/20\n",
      "3/3 [==============================] - 0s 6ms/step - loss: 0.6950 - accuracy: 0.5111\n",
      "Epoch 6/20\n",
      "3/3 [==============================] - 0s 6ms/step - loss: 0.6948 - accuracy: 0.5111\n",
      "Epoch 7/20\n",
      "3/3 [==============================] - 0s 4ms/step - loss: 0.6947 - accuracy: 0.5111\n",
      "Epoch 8/20\n",
      "3/3 [==============================] - 0s 10ms/step - loss: 0.6946 - accuracy: 0.5111\n",
      "Epoch 9/20\n",
      "3/3 [==============================] - 0s 6ms/step - loss: 0.6943 - accuracy: 0.5111\n",
      "Epoch 10/20\n",
      "3/3 [==============================] - 0s 7ms/step - loss: 0.6943 - accuracy: 0.5111\n",
      "Epoch 11/20\n",
      "3/3 [==============================] - 0s 5ms/step - loss: 0.6940 - accuracy: 0.5111\n",
      "Epoch 12/20\n",
      "3/3 [==============================] - 0s 7ms/step - loss: 0.6938 - accuracy: 0.5111\n",
      "Epoch 13/20\n",
      "3/3 [==============================] - 0s 9ms/step - loss: 0.6937 - accuracy: 0.5111\n",
      "Epoch 14/20\n",
      "3/3 [==============================] - 0s 6ms/step - loss: 0.6939 - accuracy: 0.5111\n",
      "Epoch 15/20\n",
      "3/3 [==============================] - 0s 6ms/step - loss: 0.6936 - accuracy: 0.5111\n",
      "Epoch 16/20\n",
      "3/3 [==============================] - 0s 5ms/step - loss: 0.6935 - accuracy: 0.5111\n",
      "Epoch 17/20\n",
      "3/3 [==============================] - 0s 7ms/step - loss: 0.6935 - accuracy: 0.5111\n",
      "Epoch 18/20\n",
      "3/3 [==============================] - 0s 6ms/step - loss: 0.6933 - accuracy: 0.5111\n",
      "Epoch 19/20\n",
      "3/3 [==============================] - 0s 8ms/step - loss: 0.6933 - accuracy: 0.5111\n",
      "Epoch 20/20\n",
      "3/3 [==============================] - 0s 9ms/step - loss: 0.6932 - accuracy: 0.5111\n"
     ]
    },
    {
     "data": {
      "text/plain": "<keras.src.callbacks.History at 0x1e9ff8d1b90>"
     },
     "execution_count": 17,
     "metadata": {},
     "output_type": "execute_result"
    }
   ],
   "source": [
    "model_1.fit(X_train, y_train, epochs=20)"
   ],
   "metadata": {
    "collapsed": false,
    "ExecuteTime": {
     "end_time": "2024-02-22T15:04:30.695924300Z",
     "start_time": "2024-02-22T15:04:28.163413900Z"
    }
   },
   "id": "2b69d5bcbb10df13"
  },
  {
   "cell_type": "code",
   "execution_count": 18,
   "outputs": [
    {
     "name": "stdout",
     "output_type": "stream",
     "text": [
      "1/1 [==============================] - 0s 231ms/step\n"
     ]
    },
    {
     "data": {
      "text/plain": "[0.0, 0.0, 0.0, 0.0, 0.0, 0.0, 0.0, 0.0, 0.0, 0.0]"
     },
     "execution_count": 18,
     "metadata": {},
     "output_type": "execute_result"
    }
   ],
   "source": [
    "y_pred = model_1.predict(X_test)\n",
    "y_hat = (y_pred >= 0.5).astype(int)\n",
    "y_hat = [0.0 if x == 0 else 1 for x in y_hat]\n",
    "y_hat"
   ],
   "metadata": {
    "collapsed": false,
    "ExecuteTime": {
     "end_time": "2024-02-22T15:04:30.983157400Z",
     "start_time": "2024-02-22T15:04:30.553756Z"
    }
   },
   "id": "22c51de7f0d86689"
  },
  {
   "cell_type": "code",
   "execution_count": 19,
   "outputs": [
    {
     "data": {
      "text/plain": "array([0., 0., 0., 0., 0., 0., 0., 0., 0., 0.])"
     },
     "execution_count": 19,
     "metadata": {},
     "output_type": "execute_result"
    }
   ],
   "source": [
    "y_hat = np.array(y_hat)\n",
    "y_hat"
   ],
   "metadata": {
    "collapsed": false,
    "ExecuteTime": {
     "end_time": "2024-02-22T15:04:30.983691400Z",
     "start_time": "2024-02-22T15:04:30.882889800Z"
    }
   },
   "id": "8bb640c30f2dfedf"
  },
  {
   "cell_type": "code",
   "execution_count": 20,
   "outputs": [
    {
     "data": {
      "text/plain": "True"
     },
     "execution_count": 20,
     "metadata": {},
     "output_type": "execute_result"
    }
   ],
   "source": [
    "type(y_hat) == type(y_test)"
   ],
   "metadata": {
    "collapsed": false,
    "ExecuteTime": {
     "end_time": "2024-02-22T15:04:31.047215600Z",
     "start_time": "2024-02-22T15:04:30.893717800Z"
    }
   },
   "id": "d3cea51705a89fde"
  },
  {
   "cell_type": "code",
   "execution_count": 21,
   "outputs": [
    {
     "data": {
      "text/plain": "0.5"
     },
     "execution_count": 21,
     "metadata": {},
     "output_type": "execute_result"
    }
   ],
   "source": [
    "accuracy_score(y_test,y_hat)"
   ],
   "metadata": {
    "collapsed": false,
    "ExecuteTime": {
     "end_time": "2024-02-22T15:04:31.048215500Z",
     "start_time": "2024-02-22T15:04:30.911592200Z"
    }
   },
   "id": "df57c09937e4ede7"
  },
  {
   "cell_type": "code",
   "execution_count": 22,
   "outputs": [],
   "source": [
    "model_2 = Sequential([Input(shape=(m,))])"
   ],
   "metadata": {
    "collapsed": false,
    "ExecuteTime": {
     "end_time": "2024-02-22T15:04:31.051211600Z",
     "start_time": "2024-02-22T15:04:30.926888Z"
    }
   },
   "id": "3faafacc4bd919a7"
  },
  {
   "cell_type": "code",
   "execution_count": 23,
   "outputs": [
    {
     "name": "stdout",
     "output_type": "stream",
     "text": [
      "Model: \"sequential_1\"\n",
      "_________________________________________________________________\n",
      " Layer (type)                Output Shape              Param #   \n",
      "=================================================================\n",
      "=================================================================\n",
      "Total params: 0 (0.00 Byte)\n",
      "Trainable params: 0 (0.00 Byte)\n",
      "Non-trainable params: 0 (0.00 Byte)\n",
      "_________________________________________________________________\n"
     ]
    }
   ],
   "source": [
    "model_2.summary()"
   ],
   "metadata": {
    "collapsed": false,
    "ExecuteTime": {
     "end_time": "2024-02-22T15:04:31.056028900Z",
     "start_time": "2024-02-22T15:04:30.943891800Z"
    }
   },
   "id": "50ab77e0102ed1a4"
  },
  {
   "cell_type": "code",
   "execution_count": 24,
   "outputs": [],
   "source": [
    "model_2.add(Dense(units=12, activation='ReLU',input_dim=X_train.shape[1]))\n",
    "model_2.add(Dense(units=6,activation='ReLU'))\n",
    "model_2.add(Dense(units=1,activation='sigmoid'))"
   ],
   "metadata": {
    "collapsed": false,
    "ExecuteTime": {
     "end_time": "2024-02-22T15:04:31.275378800Z",
     "start_time": "2024-02-22T15:04:30.966405100Z"
    }
   },
   "id": "cadb274eeed1e842"
  },
  {
   "cell_type": "code",
   "execution_count": 25,
   "outputs": [
    {
     "name": "stdout",
     "output_type": "stream",
     "text": [
      "Model: \"sequential_1\"\n",
      "_________________________________________________________________\n",
      " Layer (type)                Output Shape              Param #   \n",
      "=================================================================\n",
      " dense_3 (Dense)             (None, 12)                72        \n",
      "                                                                 \n",
      " dense_4 (Dense)             (None, 6)                 78        \n",
      "                                                                 \n",
      " dense_5 (Dense)             (None, 1)                 7         \n",
      "                                                                 \n",
      "=================================================================\n",
      "Total params: 157 (628.00 Byte)\n",
      "Trainable params: 157 (628.00 Byte)\n",
      "Non-trainable params: 0 (0.00 Byte)\n",
      "_________________________________________________________________\n"
     ]
    }
   ],
   "source": [
    "model_2.summary()"
   ],
   "metadata": {
    "collapsed": false,
    "ExecuteTime": {
     "end_time": "2024-02-22T15:04:31.380649Z",
     "start_time": "2024-02-22T15:04:31.051211600Z"
    }
   },
   "id": "1a753f1b1d1d8509"
  },
  {
   "cell_type": "code",
   "execution_count": 26,
   "outputs": [],
   "source": [
    "model_2.compile(loss='binary_crossentropy',optimizer='sgd',metrics='accuracy')"
   ],
   "metadata": {
    "collapsed": false,
    "ExecuteTime": {
     "end_time": "2024-02-22T15:04:31.381659500Z",
     "start_time": "2024-02-22T15:04:31.081729800Z"
    }
   },
   "id": "a950d3521a0334e1"
  },
  {
   "cell_type": "code",
   "execution_count": 27,
   "outputs": [
    {
     "name": "stdout",
     "output_type": "stream",
     "text": [
      "Model: \"sequential_1\"\n",
      "_________________________________________________________________\n",
      " Layer (type)                Output Shape              Param #   \n",
      "=================================================================\n",
      " dense_3 (Dense)             (None, 12)                72        \n",
      "                                                                 \n",
      " dense_4 (Dense)             (None, 6)                 78        \n",
      "                                                                 \n",
      " dense_5 (Dense)             (None, 1)                 7         \n",
      "                                                                 \n",
      "=================================================================\n",
      "Total params: 157 (628.00 Byte)\n",
      "Trainable params: 157 (628.00 Byte)\n",
      "Non-trainable params: 0 (0.00 Byte)\n",
      "_________________________________________________________________\n"
     ]
    }
   ],
   "source": [
    "model_2.summary()"
   ],
   "metadata": {
    "collapsed": false,
    "ExecuteTime": {
     "end_time": "2024-02-22T15:04:31.388801600Z",
     "start_time": "2024-02-22T15:04:31.096968800Z"
    }
   },
   "id": "27feeda2669e43f0"
  },
  {
   "cell_type": "code",
   "execution_count": 28,
   "outputs": [
    {
     "name": "stdout",
     "output_type": "stream",
     "text": [
      "Epoch 1/50\n",
      "3/3 [==============================] - 1s 11ms/step - loss: 0.7019 - accuracy: 0.5222\n",
      "Epoch 2/50\n",
      "3/3 [==============================] - 0s 8ms/step - loss: 0.7015 - accuracy: 0.5222\n",
      "Epoch 3/50\n",
      "3/3 [==============================] - 0s 8ms/step - loss: 0.7010 - accuracy: 0.5222\n",
      "Epoch 4/50\n",
      "3/3 [==============================] - 0s 8ms/step - loss: 0.7006 - accuracy: 0.5222\n",
      "Epoch 5/50\n",
      "3/3 [==============================] - 0s 9ms/step - loss: 0.7002 - accuracy: 0.5222\n",
      "Epoch 6/50\n",
      "3/3 [==============================] - 0s 6ms/step - loss: 0.6998 - accuracy: 0.5222\n",
      "Epoch 7/50\n",
      "3/3 [==============================] - 0s 7ms/step - loss: 0.6996 - accuracy: 0.5222\n",
      "Epoch 8/50\n",
      "3/3 [==============================] - 0s 6ms/step - loss: 0.6992 - accuracy: 0.5222\n",
      "Epoch 9/50\n",
      "3/3 [==============================] - 0s 7ms/step - loss: 0.6989 - accuracy: 0.5222\n",
      "Epoch 10/50\n",
      "3/3 [==============================] - 0s 11ms/step - loss: 0.6987 - accuracy: 0.5222\n",
      "Epoch 11/50\n",
      "3/3 [==============================] - 0s 8ms/step - loss: 0.6984 - accuracy: 0.5222\n",
      "Epoch 12/50\n",
      "3/3 [==============================] - 0s 8ms/step - loss: 0.6981 - accuracy: 0.5333\n",
      "Epoch 13/50\n",
      "3/3 [==============================] - 0s 5ms/step - loss: 0.6978 - accuracy: 0.5333\n",
      "Epoch 14/50\n",
      "3/3 [==============================] - 0s 9ms/step - loss: 0.6975 - accuracy: 0.5333\n",
      "Epoch 15/50\n",
      "3/3 [==============================] - 0s 9ms/step - loss: 0.6973 - accuracy: 0.5333\n",
      "Epoch 16/50\n",
      "3/3 [==============================] - 0s 7ms/step - loss: 0.6970 - accuracy: 0.5333\n",
      "Epoch 17/50\n",
      "3/3 [==============================] - 0s 5ms/step - loss: 0.6968 - accuracy: 0.5333\n",
      "Epoch 18/50\n",
      "3/3 [==============================] - 0s 9ms/step - loss: 0.6967 - accuracy: 0.5333\n",
      "Epoch 19/50\n",
      "3/3 [==============================] - 0s 9ms/step - loss: 0.6963 - accuracy: 0.5333\n",
      "Epoch 20/50\n",
      "3/3 [==============================] - 0s 8ms/step - loss: 0.6962 - accuracy: 0.5333\n",
      "Epoch 21/50\n",
      "3/3 [==============================] - 0s 8ms/step - loss: 0.6959 - accuracy: 0.5333\n",
      "Epoch 22/50\n",
      "3/3 [==============================] - 0s 9ms/step - loss: 0.6954 - accuracy: 0.5333\n",
      "Epoch 23/50\n",
      "3/3 [==============================] - 0s 7ms/step - loss: 0.6955 - accuracy: 0.5333\n",
      "Epoch 24/50\n",
      "3/3 [==============================] - 0s 9ms/step - loss: 0.6950 - accuracy: 0.5444\n",
      "Epoch 25/50\n",
      "3/3 [==============================] - 0s 8ms/step - loss: 0.6947 - accuracy: 0.5444\n",
      "Epoch 26/50\n",
      "3/3 [==============================] - 0s 9ms/step - loss: 0.6946 - accuracy: 0.5333\n",
      "Epoch 27/50\n",
      "3/3 [==============================] - 0s 4ms/step - loss: 0.6945 - accuracy: 0.5333\n",
      "Epoch 28/50\n",
      "3/3 [==============================] - 0s 8ms/step - loss: 0.6943 - accuracy: 0.5333\n",
      "Epoch 29/50\n",
      "3/3 [==============================] - 0s 7ms/step - loss: 0.6941 - accuracy: 0.5333\n",
      "Epoch 30/50\n",
      "3/3 [==============================] - 0s 8ms/step - loss: 0.6938 - accuracy: 0.5333\n",
      "Epoch 31/50\n",
      "3/3 [==============================] - 0s 7ms/step - loss: 0.6937 - accuracy: 0.5333\n",
      "Epoch 32/50\n",
      "3/3 [==============================] - 0s 6ms/step - loss: 0.6936 - accuracy: 0.5444\n",
      "Epoch 33/50\n",
      "3/3 [==============================] - 0s 7ms/step - loss: 0.6934 - accuracy: 0.5444\n",
      "Epoch 34/50\n",
      "3/3 [==============================] - 0s 7ms/step - loss: 0.6932 - accuracy: 0.5333\n",
      "Epoch 35/50\n",
      "3/3 [==============================] - 0s 5ms/step - loss: 0.6931 - accuracy: 0.5333\n",
      "Epoch 36/50\n",
      "3/3 [==============================] - 0s 5ms/step - loss: 0.6929 - accuracy: 0.5333\n",
      "Epoch 37/50\n",
      "3/3 [==============================] - 0s 8ms/step - loss: 0.6927 - accuracy: 0.5444\n",
      "Epoch 38/50\n",
      "3/3 [==============================] - 0s 8ms/step - loss: 0.6926 - accuracy: 0.5444\n",
      "Epoch 39/50\n",
      "3/3 [==============================] - 0s 6ms/step - loss: 0.6926 - accuracy: 0.5444\n",
      "Epoch 40/50\n",
      "3/3 [==============================] - 0s 6ms/step - loss: 0.6924 - accuracy: 0.5444\n",
      "Epoch 41/50\n",
      "3/3 [==============================] - 0s 7ms/step - loss: 0.6921 - accuracy: 0.5444\n",
      "Epoch 42/50\n",
      "3/3 [==============================] - 0s 9ms/step - loss: 0.6920 - accuracy: 0.5444\n",
      "Epoch 43/50\n",
      "3/3 [==============================] - 0s 7ms/step - loss: 0.6918 - accuracy: 0.5444\n",
      "Epoch 44/50\n",
      "3/3 [==============================] - 0s 7ms/step - loss: 0.6917 - accuracy: 0.5444\n",
      "Epoch 45/50\n",
      "3/3 [==============================] - 0s 7ms/step - loss: 0.6915 - accuracy: 0.5444\n",
      "Epoch 46/50\n",
      "3/3 [==============================] - 0s 4ms/step - loss: 0.6915 - accuracy: 0.5444\n",
      "Epoch 47/50\n",
      "3/3 [==============================] - 0s 6ms/step - loss: 0.6913 - accuracy: 0.5444\n",
      "Epoch 48/50\n",
      "3/3 [==============================] - 0s 6ms/step - loss: 0.6911 - accuracy: 0.5444\n",
      "Epoch 49/50\n",
      "3/3 [==============================] - 0s 7ms/step - loss: 0.6910 - accuracy: 0.5444\n",
      "Epoch 50/50\n",
      "3/3 [==============================] - 0s 7ms/step - loss: 0.6909 - accuracy: 0.5444\n"
     ]
    },
    {
     "data": {
      "text/plain": "<keras.src.callbacks.History at 0x1e9ff628950>"
     },
     "execution_count": 28,
     "metadata": {},
     "output_type": "execute_result"
    }
   ],
   "source": [
    "model_2.fit(X_train,y_train,epochs=50)"
   ],
   "metadata": {
    "collapsed": false,
    "ExecuteTime": {
     "end_time": "2024-02-22T15:04:33.398500900Z",
     "start_time": "2024-02-22T15:04:31.137482Z"
    }
   },
   "id": "4d9107d5c04c9f6a"
  },
  {
   "cell_type": "code",
   "execution_count": 29,
   "outputs": [
    {
     "name": "stdout",
     "output_type": "stream",
     "text": [
      "1/1 [==============================] - 0s 93ms/step\n"
     ]
    },
    {
     "data": {
      "text/plain": "array([0., 0., 0., 1., 0., 1., 0., 1., 1., 1.])"
     },
     "execution_count": 29,
     "metadata": {},
     "output_type": "execute_result"
    }
   ],
   "source": [
    "y_pred2 = model_2.predict(X_test)\n",
    "y_pred2 = (y_pred2 >= 0.5).astype(int)\n",
    "y_pred2 = np.array([0.0 if x == 0 else 1 for x in y_pred2])\n",
    "y_pred2"
   ],
   "metadata": {
    "collapsed": false,
    "ExecuteTime": {
     "end_time": "2024-02-22T15:04:33.514742100Z",
     "start_time": "2024-02-22T15:04:33.293246300Z"
    }
   },
   "id": "f671c705944fa866"
  },
  {
   "cell_type": "code",
   "execution_count": 30,
   "outputs": [
    {
     "data": {
      "text/plain": "True"
     },
     "execution_count": 30,
     "metadata": {},
     "output_type": "execute_result"
    }
   ],
   "source": [
    "type(y_pred2) == type(y_test)"
   ],
   "metadata": {
    "collapsed": false,
    "ExecuteTime": {
     "end_time": "2024-02-22T15:04:33.529118800Z",
     "start_time": "2024-02-22T15:04:33.501958800Z"
    }
   },
   "id": "2f75de61ec43f907"
  },
  {
   "cell_type": "code",
   "execution_count": 31,
   "outputs": [
    {
     "data": {
      "text/plain": "0.6"
     },
     "execution_count": 31,
     "metadata": {},
     "output_type": "execute_result"
    }
   ],
   "source": [
    "accuracy_score(y_test,y_pred2)"
   ],
   "metadata": {
    "collapsed": false,
    "ExecuteTime": {
     "end_time": "2024-02-22T15:04:33.689433300Z",
     "start_time": "2024-02-22T15:04:33.521889100Z"
    }
   },
   "id": "ed8a08c62aac3861"
  },
  {
   "cell_type": "code",
   "execution_count": 32,
   "outputs": [],
   "source": [
    "X['Area'] = y1\n",
    "# sns.heatmap(data=df)"
   ],
   "metadata": {
    "collapsed": false,
    "ExecuteTime": {
     "end_time": "2024-02-22T15:04:33.690433600Z",
     "start_time": "2024-02-22T15:04:33.525938500Z"
    }
   },
   "id": "ff92f9bd2ac96f5d"
  },
  {
   "cell_type": "code",
   "execution_count": 33,
   "outputs": [
    {
     "data": {
      "text/plain": "<Figure size 640x480 with 2 Axes>",
      "image/png": "[encoded data removed]"
     },
     "metadata": {},
     "output_type": "display_data"
    }
   ],
   "source": [
    "dataplot=sns.heatmap(X.corr())"
   ],
   "metadata": {
    "collapsed": false,
    "ExecuteTime": {
     "end_time": "2024-02-22T15:04:33.909576300Z",
     "start_time": "2024-02-22T15:04:33.548771300Z"
    }
   },
   "id": "266b9283ee879a80"
  },
  {
   "cell_type": "code",
   "execution_count": 34,
   "outputs": [
    {
     "ename": "KeyError",
     "evalue": "\"None of [Index([34, 35, 36, 37, 38, 39, 40, 41, 42, 43, 44, 45, 46, 47, 48, 49, 50, 51,\\n       52, 53, 54, 55, 56, 57, 58, 59, 60, 61, 62, 63, 64, 65, 66, 67, 68, 69,\\n       70, 71, 72, 73, 74, 75, 76, 77, 78, 79, 80, 81, 82, 83, 84, 85, 86, 87,\\n       88, 89, 90, 91, 92, 93, 94, 95, 96, 97, 98, 99],\\n      dtype='int32')] are in the [columns]\"",
     "output_type": "error",
     "traceback": [
      "\u001B[1;31m---------------------------------------------------------------------------\u001B[0m",
      "\u001B[1;31mKeyError\u001B[0m                                  Traceback (most recent call last)",
      "Cell \u001B[1;32mIn[34], line 5\u001B[0m\n\u001B[0;32m      3\u001B[0m \u001B[38;5;66;03m# enumerate splits\u001B[39;00m\n\u001B[0;32m      4\u001B[0m \u001B[38;5;28;01mfor\u001B[39;00m train, test \u001B[38;5;129;01min\u001B[39;00m kfold\u001B[38;5;241m.\u001B[39msplit(df):\n\u001B[1;32m----> 5\u001B[0m  \u001B[38;5;28mprint\u001B[39m(\u001B[38;5;124m'\u001B[39m\u001B[38;5;124mtrain: \u001B[39m\u001B[38;5;132;01m%s\u001B[39;00m\u001B[38;5;124m, test: \u001B[39m\u001B[38;5;132;01m%s\u001B[39;00m\u001B[38;5;124m'\u001B[39m \u001B[38;5;241m%\u001B[39m (\u001B[43mdf\u001B[49m\u001B[43m[\u001B[49m\u001B[43mtrain\u001B[49m\u001B[43m]\u001B[49m, df[test]))\n",
      "File \u001B[1;32m~\\AppData\\Local\\Programs\\Python\\Python311\\Lib\\site-packages\\pandas\\core\\frame.py:3767\u001B[0m, in \u001B[0;36mDataFrame.__getitem__\u001B[1;34m(self, key)\u001B[0m\n\u001B[0;32m   3765\u001B[0m     \u001B[38;5;28;01mif\u001B[39;00m is_iterator(key):\n\u001B[0;32m   3766\u001B[0m         key \u001B[38;5;241m=\u001B[39m \u001B[38;5;28mlist\u001B[39m(key)\n\u001B[1;32m-> 3767\u001B[0m     indexer \u001B[38;5;241m=\u001B[39m \u001B[38;5;28;43mself\u001B[39;49m\u001B[38;5;241;43m.\u001B[39;49m\u001B[43mcolumns\u001B[49m\u001B[38;5;241;43m.\u001B[39;49m\u001B[43m_get_indexer_strict\u001B[49m\u001B[43m(\u001B[49m\u001B[43mkey\u001B[49m\u001B[43m,\u001B[49m\u001B[43m \u001B[49m\u001B[38;5;124;43m\"\u001B[39;49m\u001B[38;5;124;43mcolumns\u001B[39;49m\u001B[38;5;124;43m\"\u001B[39;49m\u001B[43m)\u001B[49m[\u001B[38;5;241m1\u001B[39m]\n\u001B[0;32m   3769\u001B[0m \u001B[38;5;66;03m# take() does not accept boolean indexers\u001B[39;00m\n\u001B[0;32m   3770\u001B[0m \u001B[38;5;28;01mif\u001B[39;00m \u001B[38;5;28mgetattr\u001B[39m(indexer, \u001B[38;5;124m\"\u001B[39m\u001B[38;5;124mdtype\u001B[39m\u001B[38;5;124m\"\u001B[39m, \u001B[38;5;28;01mNone\u001B[39;00m) \u001B[38;5;241m==\u001B[39m \u001B[38;5;28mbool\u001B[39m:\n",
      "File \u001B[1;32m~\\AppData\\Local\\Programs\\Python\\Python311\\Lib\\site-packages\\pandas\\core\\indexes\\base.py:5877\u001B[0m, in \u001B[0;36mIndex._get_indexer_strict\u001B[1;34m(self, key, axis_name)\u001B[0m\n\u001B[0;32m   5874\u001B[0m \u001B[38;5;28;01melse\u001B[39;00m:\n\u001B[0;32m   5875\u001B[0m     keyarr, indexer, new_indexer \u001B[38;5;241m=\u001B[39m \u001B[38;5;28mself\u001B[39m\u001B[38;5;241m.\u001B[39m_reindex_non_unique(keyarr)\n\u001B[1;32m-> 5877\u001B[0m \u001B[38;5;28;43mself\u001B[39;49m\u001B[38;5;241;43m.\u001B[39;49m\u001B[43m_raise_if_missing\u001B[49m\u001B[43m(\u001B[49m\u001B[43mkeyarr\u001B[49m\u001B[43m,\u001B[49m\u001B[43m \u001B[49m\u001B[43mindexer\u001B[49m\u001B[43m,\u001B[49m\u001B[43m \u001B[49m\u001B[43maxis_name\u001B[49m\u001B[43m)\u001B[49m\n\u001B[0;32m   5879\u001B[0m keyarr \u001B[38;5;241m=\u001B[39m \u001B[38;5;28mself\u001B[39m\u001B[38;5;241m.\u001B[39mtake(indexer)\n\u001B[0;32m   5880\u001B[0m \u001B[38;5;28;01mif\u001B[39;00m \u001B[38;5;28misinstance\u001B[39m(key, Index):\n\u001B[0;32m   5881\u001B[0m     \u001B[38;5;66;03m# GH 42790 - Preserve name from an Index\u001B[39;00m\n",
      "File \u001B[1;32m~\\AppData\\Local\\Programs\\Python\\Python311\\Lib\\site-packages\\pandas\\core\\indexes\\base.py:5938\u001B[0m, in \u001B[0;36mIndex._raise_if_missing\u001B[1;34m(self, key, indexer, axis_name)\u001B[0m\n\u001B[0;32m   5936\u001B[0m     \u001B[38;5;28;01mif\u001B[39;00m use_interval_msg:\n\u001B[0;32m   5937\u001B[0m         key \u001B[38;5;241m=\u001B[39m \u001B[38;5;28mlist\u001B[39m(key)\n\u001B[1;32m-> 5938\u001B[0m     \u001B[38;5;28;01mraise\u001B[39;00m \u001B[38;5;167;01mKeyError\u001B[39;00m(\u001B[38;5;124mf\u001B[39m\u001B[38;5;124m\"\u001B[39m\u001B[38;5;124mNone of [\u001B[39m\u001B[38;5;132;01m{\u001B[39;00mkey\u001B[38;5;132;01m}\u001B[39;00m\u001B[38;5;124m] are in the [\u001B[39m\u001B[38;5;132;01m{\u001B[39;00maxis_name\u001B[38;5;132;01m}\u001B[39;00m\u001B[38;5;124m]\u001B[39m\u001B[38;5;124m\"\u001B[39m)\n\u001B[0;32m   5940\u001B[0m not_found \u001B[38;5;241m=\u001B[39m \u001B[38;5;28mlist\u001B[39m(ensure_index(key)[missing_mask\u001B[38;5;241m.\u001B[39mnonzero()[\u001B[38;5;241m0\u001B[39m]]\u001B[38;5;241m.\u001B[39munique())\n\u001B[0;32m   5941\u001B[0m \u001B[38;5;28;01mraise\u001B[39;00m \u001B[38;5;167;01mKeyError\u001B[39;00m(\u001B[38;5;124mf\u001B[39m\u001B[38;5;124m\"\u001B[39m\u001B[38;5;132;01m{\u001B[39;00mnot_found\u001B[38;5;132;01m}\u001B[39;00m\u001B[38;5;124m not in index\u001B[39m\u001B[38;5;124m\"\u001B[39m)\n",
      "\u001B[1;31mKeyError\u001B[0m: \"None of [Index([34, 35, 36, 37, 38, 39, 40, 41, 42, 43, 44, 45, 46, 47, 48, 49, 50, 51,\\n       52, 53, 54, 55, 56, 57, 58, 59, 60, 61, 62, 63, 64, 65, 66, 67, 68, 69,\\n       70, 71, 72, 73, 74, 75, 76, 77, 78, 79, 80, 81, 82, 83, 84, 85, 86, 87,\\n       88, 89, 90, 91, 92, 93, 94, 95, 96, 97, 98, 99],\\n      dtype='int32')] are in the [columns]\""
     ]
    }
   ],
   "source": [
    "# prepare cross validation\n",
    "# kfold = KFold(3)\n",
    "# # enumerate splits\n",
    "# for train, test in kfold.split(df):\n",
    "#  print('train: %s, test: %s' % (df[train], df[test]))"
   ],
   "metadata": {
    "collapsed": false,
    "ExecuteTime": {
     "end_time": "2024-02-22T15:04:34.807480Z",
     "start_time": "2024-02-22T15:04:33.911576100Z"
    }
   },
   "id": "e1c73f7430c1277c"
  },
  {
   "cell_type": "code",
   "execution_count": 3,
   "outputs": [
    {
     "data": {
      "text/plain": "     0    1    2\n0  1.5  2.7  3.0\n1  4.2  5.1  6.8\n2  7.3  8.0  9.5",
      "text/html": "<div>\n<style scoped>\n    .dataframe tbody tr th:only-of-type {\n        vertical-align: middle;\n    }\n\n    .dataframe tbody tr th {\n        vertical-align: top;\n    }\n\n    .dataframe thead th {\n        text-align: right;\n    }\n</style>\n<table border=\"1\" class=\"dataframe\">\n  <thead>\n    <tr style=\"text-align: right;\">\n      <th></th>\n      <th>0</th>\n      <th>1</th>\n      <th>2</th>\n    </tr>\n  </thead>\n  <tbody>\n    <tr>\n      <th>0</th>\n      <td>1.5</td>\n      <td>2.7</td>\n      <td>3.0</td>\n    </tr>\n    <tr>\n      <th>1</th>\n      <td>4.2</td>\n      <td>5.1</td>\n      <td>6.8</td>\n    </tr>\n    <tr>\n      <th>2</th>\n      <td>7.3</td>\n      <td>8.0</td>\n      <td>9.5</td>\n    </tr>\n  </tbody>\n</table>\n</div>"
     },
     "execution_count": 3,
     "metadata": {},
     "output_type": "execute_result"
    }
   ],
   "source": [
    "ddf = pd.DataFrame([[1.5,2.7,3.0],[4.2,5.1,6.8],[7.3,8.0,9.5]])\n",
    "ddf"
   ],
   "metadata": {
    "collapsed": false,
    "ExecuteTime": {
     "end_time": "2024-02-26T16:50:18.340094100Z",
     "start_time": "2024-02-26T16:50:18.285769900Z"
    }
   },
   "id": "1e389df4cea4d2ac"
  },
  {
   "cell_type": "code",
   "execution_count": 4,
   "outputs": [
    {
     "data": {
      "text/plain": "   0  1  2\n0  1  2  3\n1  4  5  6\n2  7  8  9",
      "text/html": "<div>\n<style scoped>\n    .dataframe tbody tr th:only-of-type {\n        vertical-align: middle;\n    }\n\n    .dataframe tbody tr th {\n        vertical-align: top;\n    }\n\n    .dataframe thead th {\n        text-align: right;\n    }\n</style>\n<table border=\"1\" class=\"dataframe\">\n  <thead>\n    <tr style=\"text-align: right;\">\n      <th></th>\n      <th>0</th>\n      <th>1</th>\n      <th>2</th>\n    </tr>\n  </thead>\n  <tbody>\n    <tr>\n      <th>0</th>\n      <td>1</td>\n      <td>2</td>\n      <td>3</td>\n    </tr>\n    <tr>\n      <th>1</th>\n      <td>4</td>\n      <td>5</td>\n      <td>6</td>\n    </tr>\n    <tr>\n      <th>2</th>\n      <td>7</td>\n      <td>8</td>\n      <td>9</td>\n    </tr>\n  </tbody>\n</table>\n</div>"
     },
     "execution_count": 4,
     "metadata": {},
     "output_type": "execute_result"
    }
   ],
   "source": [
    "ddfe = (ddf).astype(int)\n",
    "ddfe"
   ],
   "metadata": {
    "collapsed": false,
    "ExecuteTime": {
     "end_time": "2024-02-26T16:50:37.520741300Z",
     "start_time": "2024-02-26T16:50:37.460151700Z"
    }
   },
   "id": "442ca69970902c41"
  },
  {
   "cell_type": "code",
   "execution_count": 5,
   "outputs": [
    {
     "data": {
      "text/plain": "     0    1     2\n0  2.0  3.0   3.0\n1  4.0  5.0   7.0\n2  7.0  8.0  10.0",
      "text/html": "<div>\n<style scoped>\n    .dataframe tbody tr th:only-of-type {\n        vertical-align: middle;\n    }\n\n    .dataframe tbody tr th {\n        vertical-align: top;\n    }\n\n    .dataframe thead th {\n        text-align: right;\n    }\n</style>\n<table border=\"1\" class=\"dataframe\">\n  <thead>\n    <tr style=\"text-align: right;\">\n      <th></th>\n      <th>0</th>\n      <th>1</th>\n      <th>2</th>\n    </tr>\n  </thead>\n  <tbody>\n    <tr>\n      <th>0</th>\n      <td>2.0</td>\n      <td>3.0</td>\n      <td>3.0</td>\n    </tr>\n    <tr>\n      <th>1</th>\n      <td>4.0</td>\n      <td>5.0</td>\n      <td>7.0</td>\n    </tr>\n    <tr>\n      <th>2</th>\n      <td>7.0</td>\n      <td>8.0</td>\n      <td>10.0</td>\n    </tr>\n  </tbody>\n</table>\n</div>"
     },
     "execution_count": 5,
     "metadata": {},
     "output_type": "execute_result"
    }
   ],
   "source": [
    "ddf.round()"
   ],
   "metadata": {
    "collapsed": false,
    "ExecuteTime": {
     "end_time": "2024-02-26T16:52:10.647994300Z",
     "start_time": "2024-02-26T16:52:10.587509100Z"
    }
   },
   "id": "272ecc7fd54f451f"
  },
  {
   "cell_type": "code",
   "execution_count": null,
   "outputs": [],
   "source": [],
   "metadata": {
    "collapsed": false
   },
   "id": "df65252a2f3d9b54"
  }
 ],
 "metadata": {
  "kernelspec": {
   "display_name": "Python 3",
   "language": "python",
   "name": "python3"
  },
  "language_info": {
   "codemirror_mode": {
    "name": "ipython",
    "version": 2
   },
   "file_extension": ".py",
   "mimetype": "text/x-python",
   "name": "python",
   "nbconvert_exporter": "python",
   "pygments_lexer": "ipython2",
   "version": "2.7.6"
  }
 },
 "nbformat": 4,
 "nbformat_minor": 5
}
