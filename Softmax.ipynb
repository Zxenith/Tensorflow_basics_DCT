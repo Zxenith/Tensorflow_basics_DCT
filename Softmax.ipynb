{
 "cells": [
  {
   "cell_type": "code",
   "execution_count": 6,
   "id": "initial_id",
   "metadata": {
    "collapsed": true,
    "ExecuteTime": {
     "end_time": "2024-02-24T20:28:38.713888600Z",
     "start_time": "2024-02-24T20:28:38.696765300Z"
    }
   },
   "outputs": [],
   "source": [
    "import numpy as np\n",
    "import tensorflow as tf\n",
    "from keras.layers import Dense\n",
    "from keras.models import Sequential\n",
    "from sklearn.datasets import make_blobs\n",
    "from keras.optimizers import Adam\n",
    "from keras.losses import SparseCategoricalCrossentropy as scc\n",
    "#pip install -U tensorflow"
   ]
  },
  {
   "cell_type": "code",
   "execution_count": 13,
   "outputs": [],
   "source": [
    "def manual_softmax(z):\n",
    "    ez = np.exp(z)\n",
    "    sumo = ez/np.sum(ez)\n",
    "    return sumo"
   ],
   "metadata": {
    "collapsed": false,
    "ExecuteTime": {
     "end_time": "2024-02-24T20:31:58.821722200Z",
     "start_time": "2024-02-24T20:31:58.788699700Z"
    }
   },
   "id": "1b1c5413221e845b"
  },
  {
   "cell_type": "code",
   "execution_count": 7,
   "outputs": [],
   "source": [
    "# make  dataset for example\n",
    "centers = [[-5, 2], [-2, -2], [1, 2], [5, -2]]\n",
    "X_train, y_train = make_blobs(n_samples=2000, centers=centers, cluster_std=1.0,random_state=30)"
   ],
   "metadata": {
    "collapsed": false,
    "ExecuteTime": {
     "end_time": "2024-02-24T20:28:39.142088400Z",
     "start_time": "2024-02-24T20:28:39.132177400Z"
    }
   },
   "id": "22f6c07a76d49596"
  },
  {
   "cell_type": "code",
   "execution_count": 11,
   "outputs": [
    {
     "name": "stdout",
     "output_type": "stream",
     "text": [
      "Epoch 1/20\n",
      "WARNING:tensorflow:From C:\\Users\\akars\\AppData\\Local\\Programs\\Python\\Python311\\Lib\\site-packages\\keras\\src\\utils\\tf_utils.py:492: The name tf.ragged.RaggedTensorValue is deprecated. Please use tf.compat.v1.ragged.RaggedTensorValue instead.\n",
      "63/63 [==============================] - 1s 2ms/step - loss: 0.7542\n",
      "Epoch 2/20\n",
      "63/63 [==============================] - 0s 2ms/step - loss: 0.2983\n",
      "Epoch 3/20\n",
      "63/63 [==============================] - 0s 2ms/step - loss: 0.1240\n",
      "Epoch 4/20\n",
      "63/63 [==============================] - 0s 2ms/step - loss: 0.0762\n",
      "Epoch 5/20\n",
      "63/63 [==============================] - 0s 2ms/step - loss: 0.0604\n",
      "Epoch 6/20\n",
      "63/63 [==============================] - 0s 2ms/step - loss: 0.0522\n",
      "Epoch 7/20\n",
      "63/63 [==============================] - 0s 2ms/step - loss: 0.0476\n",
      "Epoch 8/20\n",
      "63/63 [==============================] - 0s 2ms/step - loss: 0.0434\n",
      "Epoch 9/20\n",
      "63/63 [==============================] - 0s 3ms/step - loss: 0.0408\n",
      "Epoch 10/20\n",
      "63/63 [==============================] - 0s 2ms/step - loss: 0.0380\n",
      "Epoch 11/20\n",
      "63/63 [==============================] - 0s 2ms/step - loss: 0.0358\n",
      "Epoch 12/20\n",
      "63/63 [==============================] - 0s 2ms/step - loss: 0.0338\n",
      "Epoch 13/20\n",
      "63/63 [==============================] - 0s 2ms/step - loss: 0.0318\n",
      "Epoch 14/20\n",
      "63/63 [==============================] - 0s 2ms/step - loss: 0.0298\n",
      "Epoch 15/20\n",
      "63/63 [==============================] - 0s 2ms/step - loss: 0.0280\n",
      "Epoch 16/20\n",
      "63/63 [==============================] - 0s 2ms/step - loss: 0.0273\n",
      "Epoch 17/20\n",
      "63/63 [==============================] - 0s 2ms/step - loss: 0.0254\n",
      "Epoch 18/20\n",
      "63/63 [==============================] - 0s 2ms/step - loss: 0.0241\n",
      "Epoch 19/20\n",
      "63/63 [==============================] - 0s 1ms/step - loss: 0.0231\n",
      "Epoch 20/20\n",
      "63/63 [==============================] - 0s 2ms/step - loss: 0.0222\n"
     ]
    },
    {
     "data": {
      "text/plain": "<keras.src.callbacks.History at 0x2120d4b2b90>"
     },
     "execution_count": 11,
     "metadata": {},
     "output_type": "execute_result"
    }
   ],
   "source": [
    "model = Sequential([Dense(25,activation='relu'),Dense(15,activation='relu'),Dense(4,activation='softmax')])\n",
    "model.compile(loss=scc(),optimizer=Adam(0.001))\n",
    "model.fit(X_train,y_train,epochs=20)"
   ],
   "metadata": {
    "collapsed": false,
    "ExecuteTime": {
     "end_time": "2024-02-24T20:30:02.686421600Z",
     "start_time": "2024-02-24T20:29:59.168799300Z"
    }
   },
   "id": "46b6a4e5ad778911"
  },
  {
   "cell_type": "code",
   "execution_count": 12,
   "outputs": [
    {
     "name": "stdout",
     "output_type": "stream",
     "text": [
      "63/63 [==============================] - 0s 1ms/step\n"
     ]
    },
    {
     "data": {
      "text/plain": "array([[1.1408502e-04, 1.0329026e-03, 9.9680650e-01, 2.0465869e-03],\n       [9.9645633e-01, 3.5358246e-03, 7.7078967e-06, 7.1818498e-08],\n       [9.6436203e-01, 3.5454672e-02, 1.8003394e-04, 3.3145784e-06],\n       ...,\n       [3.7981261e-04, 9.9689484e-01, 2.3221031e-03, 4.0326521e-04],\n       [1.1931725e-08, 2.5058832e-06, 3.4397173e-05, 9.9996305e-01],\n       [5.3213508e-04, 1.1111953e-03, 9.9767119e-01, 6.8550918e-04]],\n      dtype=float32)"
     },
     "execution_count": 12,
     "metadata": {},
     "output_type": "execute_result"
    }
   ],
   "source": [
    "model.predict(X_train)"
   ],
   "metadata": {
    "collapsed": false,
    "ExecuteTime": {
     "end_time": "2024-02-24T20:30:40.169650600Z",
     "start_time": "2024-02-24T20:30:39.877477100Z"
    }
   },
   "id": "72c558728ba34c5a"
  },
  {
   "cell_type": "code",
   "execution_count": 14,
   "outputs": [
    {
     "name": "stdout",
     "output_type": "stream",
     "text": [
      "Epoch 1/20\n",
      "63/63 [==============================] - 1s 2ms/step - loss: 0.7919\n",
      "Epoch 2/20\n",
      "63/63 [==============================] - 0s 2ms/step - loss: 0.3174\n",
      "Epoch 3/20\n",
      "63/63 [==============================] - 0s 2ms/step - loss: 0.1573\n",
      "Epoch 4/20\n",
      "63/63 [==============================] - 0s 2ms/step - loss: 0.0994\n",
      "Epoch 5/20\n",
      "63/63 [==============================] - 0s 2ms/step - loss: 0.0754\n",
      "Epoch 6/20\n",
      "63/63 [==============================] - 0s 2ms/step - loss: 0.0633\n",
      "Epoch 7/20\n",
      "63/63 [==============================] - 0s 2ms/step - loss: 0.0558\n",
      "Epoch 8/20\n",
      "63/63 [==============================] - 0s 2ms/step - loss: 0.0513\n",
      "Epoch 9/20\n",
      "63/63 [==============================] - 0s 2ms/step - loss: 0.0474\n",
      "Epoch 10/20\n",
      "63/63 [==============================] - 0s 2ms/step - loss: 0.0443\n",
      "Epoch 11/20\n",
      "63/63 [==============================] - 0s 2ms/step - loss: 0.0418\n",
      "Epoch 12/20\n",
      "63/63 [==============================] - 0s 2ms/step - loss: 0.0395\n",
      "Epoch 13/20\n",
      "63/63 [==============================] - 0s 2ms/step - loss: 0.0372\n",
      "Epoch 14/20\n",
      "63/63 [==============================] - 0s 2ms/step - loss: 0.0353\n",
      "Epoch 15/20\n",
      "63/63 [==============================] - 0s 2ms/step - loss: 0.0334\n",
      "Epoch 16/20\n",
      "63/63 [==============================] - 0s 2ms/step - loss: 0.0318\n",
      "Epoch 17/20\n",
      "63/63 [==============================] - 0s 2ms/step - loss: 0.0297\n",
      "Epoch 18/20\n",
      "63/63 [==============================] - 0s 2ms/step - loss: 0.0286\n",
      "Epoch 19/20\n",
      "63/63 [==============================] - 0s 2ms/step - loss: 0.0269\n",
      "Epoch 20/20\n",
      "63/63 [==============================] - 0s 2ms/step - loss: 0.0257\n"
     ]
    },
    {
     "data": {
      "text/plain": "<keras.src.callbacks.History at 0x2120d35b490>"
     },
     "execution_count": 14,
     "metadata": {},
     "output_type": "execute_result"
    }
   ],
   "source": [
    "preferred_model = Sequential([Dense(25,activation='relu'),Dense(15,activation='relu'),Dense(4,activation='linear')])\n",
    "preferred_model.compile(optimizer=Adam(0.001),loss=scc(from_logits=True))\n",
    "preferred_model.fit(X_train,y_train,epochs=20)"
   ],
   "metadata": {
    "collapsed": false,
    "ExecuteTime": {
     "end_time": "2024-02-24T20:35:06.473401400Z",
     "start_time": "2024-02-24T20:35:03.153686500Z"
    }
   },
   "id": "e9907b073b41ded8"
  },
  {
   "cell_type": "code",
   "execution_count": 15,
   "outputs": [
    {
     "name": "stdout",
     "output_type": "stream",
     "text": [
      "63/63 [==============================] - 0s 1ms/step\n"
     ]
    },
    {
     "data": {
      "text/plain": "array([[1.1408502e-04, 1.0329026e-03, 9.9680650e-01, 2.0465869e-03],\n       [9.9645633e-01, 3.5358246e-03, 7.7078967e-06, 7.1818498e-08],\n       [9.6436203e-01, 3.5454672e-02, 1.8003394e-04, 3.3145784e-06],\n       ...,\n       [3.7981261e-04, 9.9689484e-01, 2.3221031e-03, 4.0326521e-04],\n       [1.1931725e-08, 2.5058832e-06, 3.4397173e-05, 9.9996305e-01],\n       [5.3213508e-04, 1.1111953e-03, 9.9767119e-01, 6.8550918e-04]],\n      dtype=float32)"
     },
     "execution_count": 15,
     "metadata": {},
     "output_type": "execute_result"
    }
   ],
   "source": [
    "output = model.predict(X_train)\n",
    "output"
   ],
   "metadata": {
    "collapsed": false,
    "ExecuteTime": {
     "end_time": "2024-02-24T20:36:13.104735500Z",
     "start_time": "2024-02-24T20:36:12.896317800Z"
    }
   },
   "id": "6ffbda6450856612"
  },
  {
   "cell_type": "code",
   "execution_count": 16,
   "outputs": [
    {
     "data": {
      "text/plain": "array([[0.17506514, 0.17522608, 0.47430497, 0.17540379],\n       [0.4741883 , 0.1756835 , 0.17506476, 0.17506342],\n       [0.4634978 , 0.1830747 , 0.17672938, 0.17669816],\n       ...,\n       [0.17510703, 0.4743343 , 0.17544748, 0.17511114],\n       [0.17487966, 0.1748801 , 0.17488568, 0.47535458],\n       [0.17509307, 0.1751945 , 0.47459254, 0.17511994]], dtype=float32)"
     },
     "execution_count": 16,
     "metadata": {},
     "output_type": "execute_result"
    }
   ],
   "source": [
    "tf.nn.softmax(output).numpy()"
   ],
   "metadata": {
    "collapsed": false,
    "ExecuteTime": {
     "end_time": "2024-02-24T20:36:40.180164900Z",
     "start_time": "2024-02-24T20:36:40.168225700Z"
    }
   },
   "id": "9426bdedcc8f7175"
  },
  {
   "cell_type": "code",
   "execution_count": null,
   "outputs": [],
   "source": [],
   "metadata": {
    "collapsed": false
   },
   "id": "27e8dfa5c47a0785"
  }
 ],
 "metadata": {
  "kernelspec": {
   "display_name": "Python 3",
   "language": "python",
   "name": "python3"
  },
  "language_info": {
   "codemirror_mode": {
    "name": "ipython",
    "version": 2
   },
   "file_extension": ".py",
   "mimetype": "text/x-python",
   "name": "python",
   "nbconvert_exporter": "python",
   "pygments_lexer": "ipython2",
   "version": "2.7.6"
  }
 },
 "nbformat": 4,
 "nbformat_minor": 5
}
