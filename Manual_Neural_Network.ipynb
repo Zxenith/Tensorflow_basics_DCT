{
 "cells": [
  {
   "cell_type": "code",
   "execution_count": 110,
   "id": "initial_id",
   "metadata": {
    "collapsed": true,
    "ExecuteTime": {
     "end_time": "2024-02-17T14:35:55.293077800Z",
     "start_time": "2024-02-17T14:35:55.244960600Z"
    }
   },
   "outputs": [],
   "source": [
    "import numpy as np\n",
    "import pandas as pd\n",
    "import matplotlib.pyplot as plt\n",
    "import tensorflow as tf\n",
    "from keras.layers import Normalization\n",
    "from keras.activations import sigmoid as gi\n",
    "from Supervise_ML import load_coffee_data\n",
    "import logging\n",
    "logging.getLogger(\"tensorflow\").setLevel(logging.ERROR)\n",
    "tf.autograph.set_verbosity(0)"
   ]
  },
  {
   "cell_type": "code",
   "execution_count": 4,
   "outputs": [
    {
     "data": {
      "text/plain": "array([[185.31763812,  12.69396457],\n       [259.92047498,  11.86766377],\n       [231.01357101,  14.41424211],\n       [175.3666449 ,  11.72058651],\n       [187.12086467,  14.12973206],\n       [225.90586448,  12.10024905],\n       [208.40515676,  14.17718919],\n       [207.07593089,  14.0327376 ],\n       [280.60385359,  14.23225929],\n       [202.86935247,  12.24901028],\n       [196.70468985,  13.54426389],\n       [270.31327028,  14.60225577],\n       [192.94979108,  15.19686759],\n       [213.57283453,  14.27503537],\n       [164.47298664,  11.91817423],\n       [177.25750542,  15.03779869],\n       [241.7745473 ,  14.89694529],\n       [236.99889634,  13.12616959],\n       [219.73805621,  13.87377407],\n       [266.38592796,  13.25274466],\n       [270.45241485,  13.95486775],\n       [261.96307698,  13.49222422],\n       [243.4899478 ,  12.8561015 ],\n       [220.58184803,  12.36489356],\n       [163.59498627,  11.65441652],\n       [244.76317931,  13.32572248],\n       [271.19410986,  14.84073282],\n       [201.98784315,  15.39471508],\n       [229.9283715 ,  14.56353326],\n       [204.97123839,  12.28467965],\n       [173.18989704,  12.2248249 ],\n       [231.51374483,  11.95053142],\n       [152.68795109,  14.83198786],\n       [163.42050092,  13.30233814],\n       [215.94730737,  13.98108963],\n       [218.04195512,  15.24937257],\n       [251.30354024,  13.79786599],\n       [233.33173846,  13.52620597],\n       [280.2428442 ,  12.40650425],\n       [243.01866352,  13.72038672],\n       [155.67159152,  12.6846    ],\n       [275.16753628,  14.63825943],\n       [151.73219763,  12.68650532],\n       [151.32372212,  14.80986777],\n       [164.89962496,  11.72982072],\n       [282.55425133,  13.28347952],\n       [192.98305487,  11.69605356],\n       [202.59536338,  12.96415623],\n       [220.66990639,  11.52714187],\n       [169.97498884,  12.3395461 ],\n       [209.46811003,  12.70921347],\n       [232.79923633,  12.64173042],\n       [272.80045636,  15.34747983],\n       [158.02370683,  12.33623888],\n       [226.00812974,  14.58264092],\n       [158.64327123,  12.23921074],\n       [211.65721643,  14.17476303],\n       [271.94927014,  14.96789185],\n       [257.15698108,  11.71092857],\n       [281.84592659,  13.9585118 ],\n       [161.62563505,  12.5197151 ],\n       [233.80180142,  13.04256047],\n       [210.29146919,  14.71834026],\n       [261.24418195,  13.68714792],\n       [256.98089905,  13.12401972],\n       [281.55504804,  13.92063666],\n       [280.63922766,  11.67595077],\n       [269.16350813,  13.73750875],\n       [246.34126918,  12.2703799 ],\n       [224.07333576,  12.6571117 ],\n       [164.23986438,  11.51274708],\n       [272.42340268,  14.18361726],\n       [177.67793377,  12.53127471],\n       [212.85523206,  14.77314901],\n       [165.87945639,  15.37113932],\n       [277.42795347,  12.47864038],\n       [236.50555103,  12.94039013],\n       [244.13865151,  11.8476644 ],\n       [213.44539383,  13.85396321],\n       [234.57422435,  14.2711819 ],\n       [270.33648536,  12.46500084],\n       [170.68123284,  13.06242775],\n       [226.79179994,  15.34211504],\n       [245.91825406,  14.4537702 ],\n       [281.31680226,  12.57097265],\n       [185.02731945,  13.19016335],\n       [189.881701  ,  14.10441354],\n       [278.48137931,  12.11404597],\n       [219.9229371 ,  14.2103124 ],\n       [216.57898499,  15.15497536],\n       [249.48122814,  15.02870718],\n       [165.0882734 ,  12.28305401],\n       [158.87007046,  14.81727799],\n       [279.98051934,  11.55596408],\n       [256.54924192,  14.41132479],\n       [272.60521724,  12.58154189],\n       [246.49491975,  12.44969153],\n       [160.26448201,  14.48081625],\n       [155.69875114,  14.29837785],\n       [188.26743273,  13.44969358],\n       [270.35697577,  12.47363152],\n       [213.22379155,  12.92019779],\n       [175.70141973,  13.39460587],\n       [174.52009415,  14.69602997],\n       [233.00092162,  12.63252301],\n       [281.36917436,  12.88110738],\n       [240.61964926,  14.43289491],\n       [185.80556267,  11.54705521],\n       [270.50314335,  15.32566605],\n       [172.98079126,  12.11442084],\n       [208.41010162,  13.89027827],\n       [283.51265469,  15.35398447],\n       [283.36013339,  12.48227766],\n       [230.84923224,  13.24347657],\n       [181.23930992,  11.76150948],\n       [172.77833046,  12.93380692],\n       [161.88293361,  12.10295597],\n       [156.0279505 ,  13.99162509],\n       [216.51672478,  12.47421201],\n       [221.05707984,  13.19778711],\n       [238.9856852 ,  15.23066888],\n       [197.69443437,  14.08060613],\n       [179.55375966,  15.2595976 ],\n       [233.38848487,  12.13498975],\n       [184.70189322,  12.13660544],\n       [174.18309465,  12.72719543],\n       [261.11450983,  13.32823521],\n       [187.41794561,  13.17630344],\n       [186.09876106,  14.43472966],\n       [157.93546835,  12.65691424],\n       [193.6382219 ,  12.22607807],\n       [249.65103076,  12.22098945],\n       [190.56498132,  11.72590625],\n       [252.00406102,  12.95545207],\n       [238.55033302,  12.36894441],\n       [152.94302629,  12.78967263],\n       [255.17362013,  14.84978312],\n       [197.09336712,  14.88776311],\n       [156.79710499,  13.58845814],\n       [184.7520262 ,  13.25631075],\n       [179.92164592,  15.07426649],\n       [190.79357984,  15.28116771],\n       [164.72717415,  13.21932402],\n       [209.86506596,  14.33773917],\n       [196.57800642,  13.46997985],\n       [159.51062317,  12.74412583],\n       [247.87288291,  11.92364557],\n       [212.44231569,  12.44690782],\n       [172.34040752,  11.98526205],\n       [259.8719002 ,  14.24662808],\n       [201.22657354,  13.06656377],\n       [248.34175919,  13.9158246 ],\n       [273.66206058,  15.17765474],\n       [215.09358488,  14.13654103],\n       [223.53014138,  12.74114217],\n       [211.22431235,  14.38470346],\n       [224.61209061,  14.02962547],\n       [215.7548952 ,  15.31191057],\n       [254.8222958 ,  12.02314013],\n       [259.90478358,  15.17031031],\n       [260.24885577,  12.87243299],\n       [199.6677145 ,  12.47285748],\n       [157.52013585,  13.38824538],\n       [264.8148241 ,  14.57524634],\n       [239.39685171,  14.88876268],\n       [238.98037311,  12.39333366],\n       [258.42593537,  12.97008002],\n       [270.15836599,  12.80593012],\n       [162.40676333,  14.41959278],\n       [164.53231154,  14.98085772],\n       [205.6096794 ,  14.6204848 ],\n       [157.09674149,  13.67535103],\n       [241.38069604,  12.01802052],\n       [232.13370589,  12.07209046],\n       [191.03853216,  12.96114082],\n       [233.644025  ,  12.02047538],\n       [174.9514637 ,  14.62502635],\n       [246.64321151,  13.31682268],\n       [188.07040705,  14.26881857],\n       [213.15899445,  12.74607869],\n       [268.08223648,  12.30736127],\n       [258.57818535,  13.97127162],\n       [237.20731698,  14.22860981],\n       [251.01659085,  15.02378838],\n       [274.27882002,  12.52195619],\n       [172.12463765,  15.08549633],\n       [177.51695425,  12.38785975],\n       [258.70969379,  15.36444235],\n       [264.01362166,  13.56692157],\n       [200.7060497 ,  15.45420693],\n       [249.36929914,  14.01637408],\n       [151.50238376,  12.28076712],\n       [151.82138896,  15.12816166],\n       [181.92285734,  12.18408524],\n       [228.64664273,  12.31240743],\n       [223.78183257,  15.2991668 ],\n       [266.62767329,  12.48051014],\n       [273.68398195,  13.09756176],\n       [220.61000617,  12.7998907 ],\n       [284.99434167,  12.72829382]])"
     },
     "execution_count": 4,
     "metadata": {},
     "output_type": "execute_result"
    }
   ],
   "source": [
    "X,y = load_coffee_data()\n",
    "X"
   ],
   "metadata": {
    "collapsed": false,
    "ExecuteTime": {
     "end_time": "2024-02-17T12:19:14.824953300Z",
     "start_time": "2024-02-17T12:19:14.805322300Z"
    }
   },
   "id": "1563562b445522fe"
  },
  {
   "cell_type": "code",
   "execution_count": 5,
   "outputs": [
    {
     "data": {
      "text/plain": "array([[1.],\n       [0.],\n       [0.],\n       [0.],\n       [1.],\n       [1.],\n       [0.],\n       [0.],\n       [0.],\n       [1.],\n       [1.],\n       [0.],\n       [0.],\n       [0.],\n       [0.],\n       [0.],\n       [0.],\n       [0.],\n       [0.],\n       [0.],\n       [0.],\n       [0.],\n       [0.],\n       [1.],\n       [0.],\n       [0.],\n       [0.],\n       [0.],\n       [0.],\n       [1.],\n       [0.],\n       [0.],\n       [0.],\n       [0.],\n       [0.],\n       [0.],\n       [0.],\n       [0.],\n       [0.],\n       [0.],\n       [0.],\n       [0.],\n       [0.],\n       [0.],\n       [0.],\n       [0.],\n       [0.],\n       [1.],\n       [0.],\n       [0.],\n       [1.],\n       [1.],\n       [0.],\n       [0.],\n       [0.],\n       [0.],\n       [0.],\n       [0.],\n       [0.],\n       [0.],\n       [0.],\n       [0.],\n       [0.],\n       [0.],\n       [0.],\n       [0.],\n       [0.],\n       [0.],\n       [1.],\n       [1.],\n       [0.],\n       [0.],\n       [1.],\n       [0.],\n       [0.],\n       [0.],\n       [0.],\n       [0.],\n       [0.],\n       [0.],\n       [0.],\n       [0.],\n       [0.],\n       [0.],\n       [0.],\n       [1.],\n       [1.],\n       [0.],\n       [0.],\n       [0.],\n       [0.],\n       [0.],\n       [0.],\n       [0.],\n       [0.],\n       [0.],\n       [0.],\n       [0.],\n       [0.],\n       [1.],\n       [0.],\n       [1.],\n       [1.],\n       [0.],\n       [1.],\n       [0.],\n       [0.],\n       [0.],\n       [0.],\n       [0.],\n       [0.],\n       [0.],\n       [0.],\n       [0.],\n       [0.],\n       [0.],\n       [0.],\n       [0.],\n       [1.],\n       [1.],\n       [0.],\n       [0.],\n       [0.],\n       [1.],\n       [1.],\n       [0.],\n       [0.],\n       [1.],\n       [0.],\n       [0.],\n       [1.],\n       [0.],\n       [0.],\n       [0.],\n       [1.],\n       [0.],\n       [0.],\n       [0.],\n       [0.],\n       [1.],\n       [0.],\n       [0.],\n       [0.],\n       [0.],\n       [1.],\n       [0.],\n       [0.],\n       [1.],\n       [0.],\n       [0.],\n       [1.],\n       [0.],\n       [0.],\n       [0.],\n       [1.],\n       [0.],\n       [0.],\n       [0.],\n       [0.],\n       [0.],\n       [0.],\n       [1.],\n       [0.],\n       [0.],\n       [0.],\n       [1.],\n       [0.],\n       [0.],\n       [0.],\n       [0.],\n       [0.],\n       [0.],\n       [1.],\n       [1.],\n       [1.],\n       [1.],\n       [0.],\n       [0.],\n       [1.],\n       [1.],\n       [0.],\n       [0.],\n       [0.],\n       [0.],\n       [0.],\n       [0.],\n       [1.],\n       [0.],\n       [0.],\n       [0.],\n       [0.],\n       [0.],\n       [0.],\n       [1.],\n       [1.],\n       [0.],\n       [0.],\n       [0.],\n       [1.],\n       [0.]])"
     },
     "execution_count": 5,
     "metadata": {},
     "output_type": "execute_result"
    }
   ],
   "source": [
    "y"
   ],
   "metadata": {
    "collapsed": false,
    "ExecuteTime": {
     "end_time": "2024-02-17T12:19:18.816671400Z",
     "start_time": "2024-02-17T12:19:18.768011400Z"
    }
   },
   "id": "df915c1afdda76ac"
  },
  {
   "cell_type": "code",
   "execution_count": 93,
   "outputs": [
    {
     "data": {
      "text/plain": "<tf.Tensor: shape=(200, 2), dtype=float32, numpy=\narray([[-0.8345551 , -0.6528792 ],\n       [ 1.0323051 , -1.3851453 ],\n       [ 0.3089391 ,  0.8716251 ],\n       [-1.0835688 , -1.5154841 ],\n       [-0.7894313 ,  0.6194935 ],\n       [ 0.18112417, -1.1790283 ],\n       [-0.25681356,  0.6615495 ],\n       [-0.29007602,  0.5335373 ],\n       [ 1.5498857 ,  0.7103532 ],\n       [-0.39534125, -1.047197  ],\n       [-0.54960555,  0.1006532 ],\n       [ 1.2923743 ,  1.0382426 ],\n       [-0.6435681 ,  1.5651861 ],\n       [-0.12749763,  0.7482604 ],\n       [-1.3561714 , -1.340383  ],\n       [-1.0362518 ,  1.4242196 ],\n       [ 0.57822186,  1.2993953 ],\n       [ 0.45871606, -0.26986104],\n       [ 0.02678081,  0.3926646 ],\n       [ 1.1940966 , -0.15769024],\n       [ 1.2958566 ,  0.46452886],\n       [ 1.0834192 ,  0.05453626],\n       [ 0.6211478 , -0.5091947 ],\n       [ 0.04789595, -0.94450104],\n       [-1.3781425 , -1.5741245 ],\n       [ 0.65300936, -0.09301733],\n       [ 1.3144168 ,  1.24958   ],\n       [-0.4174003 ,  1.740518  ],\n       [ 0.2817833 ,  1.0039264 ],\n       [-0.34274378, -1.0155869 ],\n       [-1.1380396 , -1.0686297 ],\n       [ 0.32145566, -1.3117082 ],\n       [-1.6510799 ,  1.2418301 ],\n       [-1.3825088 , -0.11374024],\n       [-0.06807864,  0.48776692],\n       [-0.01566214,  1.6117156 ],\n       [ 0.81667525,  0.32539457],\n       [ 0.3669491 ,  0.08465041],\n       [ 1.5408523 , -0.90762573],\n       [ 0.60935444,  0.25673258],\n       [-1.5764176 , -0.6611785 ],\n       [ 1.4138476 ,  1.0701493 ],\n       [-1.6749969 , -0.6594899 ],\n       [-1.6852187 ,  1.2222278 ],\n       [-1.3454952 , -1.5073014 ],\n       [ 1.5986928 , -0.13045296],\n       [-0.6427361 , -1.5372255 ],\n       [-0.4021975 , -0.41343656],\n       [ 0.05009952, -1.6869147 ],\n       [-1.2184894 , -0.96696407],\n       [-0.2302141 , -0.6393662 ],\n       [ 0.3536238 , -0.6991694 ],\n       [ 1.3546134 ,  1.698658  ],\n       [-1.517558  , -0.96989506],\n       [ 0.18368322,  1.0208597 ],\n       [-1.5020543 , -1.0558808 ],\n       [-0.17543404,  0.6593995 ],\n       [ 1.3333138 ,  1.3622681 ],\n       [ 0.96315163, -1.5240428 ],\n       [ 1.5809672 ,  0.46775815],\n       [-1.4274234 , -0.8072987 ],\n       [ 0.37871194, -0.34395477],\n       [-0.20961025,  1.141116  ],\n       [ 1.0654293 ,  0.22727682],\n       [ 0.95874524, -0.271766  ],\n       [ 1.5736886 ,  0.43419412],\n       [ 1.5507709 , -1.5550402 ],\n       [ 1.2636029 ,  0.27190632],\n       [ 0.69249916, -1.0282589 ],\n       [ 0.13526684, -0.6855381 ],\n       [-1.362005  , -1.6996713 ],\n       [ 1.3451782 ,  0.66724664],\n       [-1.0257311 , -0.79705477],\n       [-0.14545497,  1.1896873 ],\n       [-1.320976  ,  1.7196251 ],\n       [ 1.470412  , -0.8436991 ],\n       [ 0.44637054, -0.43449754],\n       [ 0.6373812 , -1.4028679 ],\n       [-0.13068672,  0.37510762],\n       [ 0.39804083,  0.74484605],\n       [ 1.2929554 , -0.8557863 ],\n       [-1.2008165 , -0.32634875],\n       [ 0.20329355,  1.693904  ],\n       [ 0.6819139 ,  0.9066555 ],\n       [ 1.5677266 , -0.7618748 ],\n       [-0.84182024, -0.2131494 ],\n       [-0.7203442 ,  0.5970566 ],\n       [ 1.4967731 , -1.1668016 ],\n       [ 0.03140752,  0.6909039 ],\n       [-0.05227178,  1.5280607 ],\n       [ 0.7710737 ,  1.4161628 ],\n       [-1.3407745 , -1.017027  ],\n       [-1.4963787 ,  1.2287946 ],\n       [ 1.5342878 , -1.661372  ],\n       [ 0.94794387,  0.86903983],\n       [ 1.3497282 , -0.7525081 ],\n       [ 0.69634426, -0.8693534 ],\n       [-1.461485  ,  0.93062294],\n       [-1.575738  ,  0.768947  ],\n       [-0.76073974,  0.0168454 ],\n       [ 1.2934678 , -0.84813774],\n       [-0.13623212, -0.4523926 ],\n       [-1.0751914 , -0.03197347],\n       [-1.1047527 ,  1.1213447 ],\n       [ 0.35867053, -0.7073293 ],\n       [ 1.5690371 , -0.48703417],\n       [ 0.5493215 ,  0.8881553 ],\n       [-0.8223455 , -1.6692673 ],\n       [ 1.2971258 ,  1.679327  ],\n       [-1.1432723 , -1.1664695 ],\n       [-0.25668985,  0.40728983],\n       [ 1.6226759 ,  1.7044227 ],\n       [ 1.618859  , -0.8404757 ],\n       [ 0.3048267 , -0.16590334],\n       [-0.93661135, -1.4792182 ],\n       [-1.1483386 , -0.44033155],\n       [-1.4209849 , -1.1766298 ],\n       [-1.5674999 ,  0.4971032 ],\n       [-0.05382967, -0.84762394],\n       [ 0.05978822, -0.20639332],\n       [ 0.50843334,  1.5951406 ],\n       [-0.52483857,  0.5759585 ],\n       [-0.97879046,  1.6207771 ],\n       [ 0.36836916, -1.1482414 ],\n       [-0.84996367, -1.1468098 ],\n       [-1.113186  , -0.6234302 ],\n       [ 1.0621846 , -0.09079038],\n       [-0.78199726, -0.22543186],\n       [-0.8150085 ,  0.88978136],\n       [-1.5197662 , -0.68571305],\n       [-0.6263408 , -1.0675192 ],\n       [ 0.7753228 , -1.0720289 ],\n       [-0.7032456 , -1.51077   ],\n       [ 0.8342049 , -0.42115018],\n       [ 0.49753922, -0.9409117 ],\n       [-1.6446971 , -0.56806314],\n       [ 0.91351986,  1.2576004 ],\n       [-0.53987944,  1.2912583 ],\n       [-1.5482526 ,  0.139818  ],\n       [-0.8487089 , -0.15453024],\n       [-0.9695844 ,  1.4565371 ],\n       [-0.6975253 ,  1.6398926 ],\n       [-1.3498107 , -0.18730745],\n       [-0.22028065,  0.8038286 ],\n       [-0.552776  ,  0.03482329],\n       [-1.4803497 , -0.6084272 ],\n       [ 0.7308263 , -1.3355336 ],\n       [-0.15578745, -0.8718204 ],\n       [-1.1592972 , -1.2809298 ],\n       [ 1.0310893 ,  0.7230861 ],\n       [-0.43645006, -0.32268336],\n       [ 0.7425598 ,  0.42992952],\n       [ 1.3761742 ,  1.54816   ],\n       [-0.08944235,  0.62552786],\n       [ 0.12167387, -0.6110708 ],\n       [-0.18626672,  0.8454485 ],\n       [ 0.1487487 ,  0.53077966],\n       [-0.07289359,  1.6671367 ],\n       [ 0.9047285 , -1.2473624 ],\n       [ 1.0319126 ,  1.5416507 ],\n       [ 1.0405229 , -0.4947216 ],\n       [-0.4754592 , -0.848824  ],\n       [-1.5301594 , -0.03760973],\n       [ 1.1547812 ,  1.0143074 ],\n       [ 0.5187223 ,  1.2921441 ],\n       [ 0.5083005 , -0.919298  ],\n       [ 0.9949058 , -0.40818653],\n       [ 1.2884978 , -0.553656  ],\n       [-1.4078765 ,  0.8763673 ],\n       [-1.3546867 ,  1.3737587 ],\n       [-0.32676739,  1.0543967 ],\n       [-1.5407546 ,  0.21682239],\n       [ 0.56836593, -1.2518991 ],\n       [ 0.33696964, -1.2039828 ],\n       [-0.6913957 , -0.4161089 ],\n       [ 0.37476376, -1.2497237 ],\n       [-1.0939583 ,  1.0584221 ],\n       [ 0.70005536, -0.10090421],\n       [-0.76567   ,  0.7427518 ],\n       [-0.13785338, -0.60669637],\n       [ 1.2365452 , -0.99548596],\n       [ 0.9987158 ,  0.47906616],\n       [ 0.46393156,  0.7071188 ],\n       [ 0.80949444,  1.4118036 ],\n       [ 1.391608  , -0.80531263],\n       [-1.1646967 ,  1.4664886 ],\n       [-1.0297594 , -0.9241491 ],\n       [ 1.0020064 ,  1.7136905 ],\n       [ 1.1347318 ,  0.12073212],\n       [-0.44947565,  1.7932389 ],\n       [ 0.7682726 ,  0.5190355 ],\n       [-1.6807477 , -1.0190537 ],\n       [-1.6727647 ,  1.5042987 ],\n       [-0.91950625, -1.1047335 ],\n       [ 0.24970911, -0.9910143 ],\n       [ 0.12797225,  1.655843  ],\n       [ 1.2001463 , -0.84204257],\n       [ 1.3767233 , -0.29521284],\n       [ 0.04860044, -0.5590083 ],\n       [ 1.6597537 , -0.62245744]], dtype=float32)>"
     },
     "execution_count": 93,
     "metadata": {},
     "output_type": "execute_result"
    }
   ],
   "source": [
    "norm_1 = Normalization(axis=-1)\n",
    "norm_1.adapt(X)\n",
    "Xn = norm_1(X)\n",
    "Xn"
   ],
   "metadata": {
    "collapsed": false,
    "ExecuteTime": {
     "end_time": "2024-02-17T14:27:58.144925300Z",
     "start_time": "2024-02-17T14:27:57.447412400Z"
    }
   },
   "id": "c3e33b7c600a241d"
  },
  {
   "cell_type": "code",
   "execution_count": 13,
   "outputs": [
    {
     "data": {
      "text/plain": "              0          1\n0    185.317638  12.693965\n1    259.920475  11.867664\n2    231.013571  14.414242\n3    175.366645  11.720587\n4    187.120865  14.129732\n..          ...        ...\n195  223.781833  15.299167\n196  266.627673  12.480510\n197  273.683982  13.097562\n198  220.610006  12.799891\n199  284.994342  12.728294\n\n[200 rows x 2 columns]",
      "text/html": "<div>\n<style scoped>\n    .dataframe tbody tr th:only-of-type {\n        vertical-align: middle;\n    }\n\n    .dataframe tbody tr th {\n        vertical-align: top;\n    }\n\n    .dataframe thead th {\n        text-align: right;\n    }\n</style>\n<table border=\"1\" class=\"dataframe\">\n  <thead>\n    <tr style=\"text-align: right;\">\n      <th></th>\n      <th>0</th>\n      <th>1</th>\n    </tr>\n  </thead>\n  <tbody>\n    <tr>\n      <th>0</th>\n      <td>185.317638</td>\n      <td>12.693965</td>\n    </tr>\n    <tr>\n      <th>1</th>\n      <td>259.920475</td>\n      <td>11.867664</td>\n    </tr>\n    <tr>\n      <th>2</th>\n      <td>231.013571</td>\n      <td>14.414242</td>\n    </tr>\n    <tr>\n      <th>3</th>\n      <td>175.366645</td>\n      <td>11.720587</td>\n    </tr>\n    <tr>\n      <th>4</th>\n      <td>187.120865</td>\n      <td>14.129732</td>\n    </tr>\n    <tr>\n      <th>...</th>\n      <td>...</td>\n      <td>...</td>\n    </tr>\n    <tr>\n      <th>195</th>\n      <td>223.781833</td>\n      <td>15.299167</td>\n    </tr>\n    <tr>\n      <th>196</th>\n      <td>266.627673</td>\n      <td>12.480510</td>\n    </tr>\n    <tr>\n      <th>197</th>\n      <td>273.683982</td>\n      <td>13.097562</td>\n    </tr>\n    <tr>\n      <th>198</th>\n      <td>220.610006</td>\n      <td>12.799891</td>\n    </tr>\n    <tr>\n      <th>199</th>\n      <td>284.994342</td>\n      <td>12.728294</td>\n    </tr>\n  </tbody>\n</table>\n<p>200 rows × 2 columns</p>\n</div>"
     },
     "execution_count": 13,
     "metadata": {},
     "output_type": "execute_result"
    }
   ],
   "source": [
    "df = pd.DataFrame(X)\n",
    "df"
   ],
   "metadata": {
    "collapsed": false,
    "ExecuteTime": {
     "end_time": "2024-02-17T12:23:47.358422100Z",
     "start_time": "2024-02-17T12:23:47.342441200Z"
    }
   },
   "id": "826a7fb21c489d14"
  },
  {
   "cell_type": "code",
   "execution_count": 16,
   "outputs": [
    {
     "data": {
      "text/plain": "              0          1    2\n0    185.317638  12.693965  1.0\n1    259.920475  11.867664  0.0\n2    231.013571  14.414242  0.0\n3    175.366645  11.720587  0.0\n4    187.120865  14.129732  1.0\n..          ...        ...  ...\n195  223.781833  15.299167  0.0\n196  266.627673  12.480510  0.0\n197  273.683982  13.097562  0.0\n198  220.610006  12.799891  1.0\n199  284.994342  12.728294  0.0\n\n[200 rows x 3 columns]",
      "text/html": "<div>\n<style scoped>\n    .dataframe tbody tr th:only-of-type {\n        vertical-align: middle;\n    }\n\n    .dataframe tbody tr th {\n        vertical-align: top;\n    }\n\n    .dataframe thead th {\n        text-align: right;\n    }\n</style>\n<table border=\"1\" class=\"dataframe\">\n  <thead>\n    <tr style=\"text-align: right;\">\n      <th></th>\n      <th>0</th>\n      <th>1</th>\n      <th>2</th>\n    </tr>\n  </thead>\n  <tbody>\n    <tr>\n      <th>0</th>\n      <td>185.317638</td>\n      <td>12.693965</td>\n      <td>1.0</td>\n    </tr>\n    <tr>\n      <th>1</th>\n      <td>259.920475</td>\n      <td>11.867664</td>\n      <td>0.0</td>\n    </tr>\n    <tr>\n      <th>2</th>\n      <td>231.013571</td>\n      <td>14.414242</td>\n      <td>0.0</td>\n    </tr>\n    <tr>\n      <th>3</th>\n      <td>175.366645</td>\n      <td>11.720587</td>\n      <td>0.0</td>\n    </tr>\n    <tr>\n      <th>4</th>\n      <td>187.120865</td>\n      <td>14.129732</td>\n      <td>1.0</td>\n    </tr>\n    <tr>\n      <th>...</th>\n      <td>...</td>\n      <td>...</td>\n      <td>...</td>\n    </tr>\n    <tr>\n      <th>195</th>\n      <td>223.781833</td>\n      <td>15.299167</td>\n      <td>0.0</td>\n    </tr>\n    <tr>\n      <th>196</th>\n      <td>266.627673</td>\n      <td>12.480510</td>\n      <td>0.0</td>\n    </tr>\n    <tr>\n      <th>197</th>\n      <td>273.683982</td>\n      <td>13.097562</td>\n      <td>0.0</td>\n    </tr>\n    <tr>\n      <th>198</th>\n      <td>220.610006</td>\n      <td>12.799891</td>\n      <td>1.0</td>\n    </tr>\n    <tr>\n      <th>199</th>\n      <td>284.994342</td>\n      <td>12.728294</td>\n      <td>0.0</td>\n    </tr>\n  </tbody>\n</table>\n<p>200 rows × 3 columns</p>\n</div>"
     },
     "execution_count": 16,
     "metadata": {},
     "output_type": "execute_result"
    }
   ],
   "source": [
    "df[2] = y\n",
    "df"
   ],
   "metadata": {
    "collapsed": false,
    "ExecuteTime": {
     "end_time": "2024-02-17T12:24:59.576128100Z",
     "start_time": "2024-02-17T12:24:59.538950400Z"
    }
   },
   "id": "6098a75d04732f32"
  },
  {
   "cell_type": "code",
   "execution_count": 18,
   "outputs": [
    {
     "data": {
      "text/plain": "<matplotlib.collections.PathCollection at 0x260b7af4450>"
     },
     "execution_count": 18,
     "metadata": {},
     "output_type": "execute_result"
    },
    {
     "data": {
      "text/plain": "<Figure size 640x480 with 1 Axes>",
      "image/png": "[encoded data removed]"
     },
     "metadata": {},
     "output_type": "display_data"
    }
   ],
   "source": [
    "good = df[df[2] == 1.0]\n",
    "bad = df[df[2] == 0.0]\n",
    "plt.scatter(good[0],good[1],marker='x',c='r')\n",
    "plt.scatter(bad[0],bad[1],marker='o',c='b')"
   ],
   "metadata": {
    "collapsed": false,
    "ExecuteTime": {
     "end_time": "2024-02-17T12:31:34.594184300Z",
     "start_time": "2024-02-17T12:31:34.433157100Z"
    }
   },
   "id": "4fb8db2a2a29394c"
  },
  {
   "cell_type": "code",
   "execution_count": 101,
   "outputs": [],
   "source": [
    "def dense(X,W,b):\n",
    "    units = W.shape[1]\n",
    "    p = np.zeros(units)\n",
    "    for j in range(units):\n",
    "        w = W[:,j]\n",
    "        z = np.dot(w,X) + b[j]\n",
    "        p[j] = gi(z)\n",
    "    return p"
   ],
   "metadata": {
    "collapsed": false,
    "ExecuteTime": {
     "end_time": "2024-02-17T14:33:08.833023500Z",
     "start_time": "2024-02-17T14:33:08.822003600Z"
    }
   },
   "id": "c38cddc67a1892fa"
  },
  {
   "cell_type": "code",
   "execution_count": 102,
   "outputs": [],
   "source": [
    "def sequential(X,W1,b1,W2,b2):\n",
    "    a1 = dense(X,W1,b1)\n",
    "    a2 = dense(a1,W2,b2)\n",
    "    return a2"
   ],
   "metadata": {
    "collapsed": false,
    "ExecuteTime": {
     "end_time": "2024-02-17T14:33:09.304884900Z",
     "start_time": "2024-02-17T14:33:09.290247800Z"
    }
   },
   "id": "75200cf1838e9618"
  },
  {
   "cell_type": "code",
   "execution_count": 103,
   "outputs": [],
   "source": [
    "W1_tmp = np.array([[-8.93, 0.29, 12.9], [-0.1, -7.32, 10.81]])\n",
    "b1_tmp = np.array([-9.82, -9.28, 0.96])\n",
    "W2_tmp = np.array([[-31.18], [-27.59], [-32.56]])\n",
    "b2_tmp = np.array([15.41])"
   ],
   "metadata": {
    "collapsed": false,
    "ExecuteTime": {
     "end_time": "2024-02-17T14:33:09.789359300Z",
     "start_time": "2024-02-17T14:33:09.768696300Z"
    }
   },
   "id": "1d47675c51ed098a"
  },
  {
   "cell_type": "code",
   "execution_count": 112,
   "outputs": [],
   "source": [
    "def predict_neural(X, W1, b1, W2, b2):\n",
    "    m = X.shape[0]\n",
    "    p = np.zeros(m)\n",
    "    for i in range(m):\n",
    "        p[i] = sequential(X[i], W1, b1, W2, b2)\n",
    "    return(p)"
   ],
   "metadata": {
    "collapsed": false,
    "ExecuteTime": {
     "end_time": "2024-02-17T14:48:58.022312100Z",
     "start_time": "2024-02-17T14:48:58.000959700Z"
    }
   },
   "id": "f62ffe44bfb9bc75"
  },
  {
   "cell_type": "code",
   "execution_count": 113,
   "outputs": [],
   "source": [
    "X_tst = np.array([\n",
    "    [200,13.9],  # postive example\n",
    "    [200,17]])   # negative example\n",
    "X_tsn = norm_1(X_tst)  # remember to normalize\n",
    "pred = predict_neural(X_tsn,W1_tmp,b1_tmp,W2_tmp,b2_tmp)"
   ],
   "metadata": {
    "collapsed": false,
    "ExecuteTime": {
     "end_time": "2024-02-17T14:48:59.026082600Z",
     "start_time": "2024-02-17T14:48:58.996467600Z"
    }
   },
   "id": "d8d0064a38bc8d61"
  },
  {
   "cell_type": "code",
   "execution_count": 114,
   "outputs": [
    {
     "data": {
      "text/plain": "array([1, 0])"
     },
     "execution_count": 114,
     "metadata": {},
     "output_type": "execute_result"
    }
   ],
   "source": [
    "y_hat = (pred >= 0.5).astype(int)\n",
    "y_hat"
   ],
   "metadata": {
    "collapsed": false,
    "ExecuteTime": {
     "end_time": "2024-02-17T14:48:59.569249500Z",
     "start_time": "2024-02-17T14:48:59.547362800Z"
    }
   },
   "id": "51454dc9ffefff9d"
  },
  {
   "cell_type": "code",
   "execution_count": 114,
   "outputs": [],
   "source": [],
   "metadata": {
    "collapsed": false,
    "ExecuteTime": {
     "end_time": "2024-02-17T14:50:02.598873200Z",
     "start_time": "2024-02-17T14:50:02.558156700Z"
    }
   },
   "id": "7a801e59a37b3e01"
  }
 ],
 "metadata": {
  "kernelspec": {
   "display_name": "Python 3",
   "language": "python",
   "name": "python3"
  },
  "language_info": {
   "codemirror_mode": {
    "name": "ipython",
    "version": 2
   },
   "file_extension": ".py",
   "mimetype": "text/x-python",
   "name": "python",
   "nbconvert_exporter": "python",
   "pygments_lexer": "ipython2",
   "version": "2.7.6"
  }
 },
 "nbformat": 4,
 "nbformat_minor": 5
}
